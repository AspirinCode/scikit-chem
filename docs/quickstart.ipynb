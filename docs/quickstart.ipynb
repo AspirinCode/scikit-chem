{
 "cells": [
  {
   "cell_type": "code",
   "execution_count": 1,
   "metadata": {
    "collapsed": false,
    "nbsphinx": "hidden"
   },
   "outputs": [
    {
     "name": "stdout",
     "output_type": "stream",
     "text": [
      "/Users/rich/datasets\n"
     ]
    }
   ],
   "source": [
    "cd ~/datasets"
   ]
  },
  {
   "cell_type": "code",
   "execution_count": 2,
   "metadata": {
    "collapsed": false,
    "nbsphinx": "hidden"
   },
   "outputs": [],
   "source": [
    "import pandas as pd\n",
    "%matplotlib inline\n",
    "import matplotlib.pyplot as plt\n",
    "plt.style.use('ggplot')\n",
    "plt.rcParams['savefig.dpi'] = 100\n",
    "\n",
    "pd.options.display.max_columns = 10\n",
    "pd.options.display.max_rows = 10"
   ]
  },
  {
   "cell_type": "raw",
   "metadata": {},
   "source": [
    ".. _quickstart:"
   ]
  },
  {
   "cell_type": "markdown",
   "metadata": {},
   "source": [
    "# Quickstart"
   ]
  },
  {
   "cell_type": "markdown",
   "metadata": {},
   "source": [
    "We will be working on a mutagenicity dataset, released by [Kazius et al.](http://pubs.acs.org/doi/abs/10.1021/jm040835a).  4337 compounds, provided as the file `mols.sdf`, were subjected to the [AMES test](https://en.wikipedia.org/wiki/Ames_test).  The results are given in `labels.csv`.  We will clean the molecules, perform a brief chemical space  analysis before finally assessing potential predictive models built on the data."
   ]
  },
  {
   "cell_type": "markdown",
   "metadata": {},
   "source": [
    "## Imports\n",
    "\n",
    "`scikit-chem` imports all subpackages with the main package, so all we need to do is import the main package, `skchem`.  We will also need `pandas`."
   ]
  },
  {
   "cell_type": "code",
   "execution_count": 3,
   "metadata": {
    "collapsed": true
   },
   "outputs": [],
   "source": [
    "import skchem\n",
    "import pandas as pd"
   ]
  },
  {
   "cell_type": "markdown",
   "metadata": {},
   "source": [
    "## Loading the data"
   ]
  },
  {
   "cell_type": "markdown",
   "metadata": {},
   "source": [
    "We can use `skchem.read_sdf` to import the sdf file:"
   ]
  },
  {
   "cell_type": "code",
   "execution_count": 15,
   "metadata": {
    "collapsed": false,
    "scrolled": true
   },
   "outputs": [
    {
     "data": {
      "text/plain": [
       "name\n",
       "1728-95-6     <Mol: COc1ccc(-c2nc(-c3ccccc3)c(-c3ccccc3)[nH]...\n",
       "91-08-7                            <Mol: Cc1c(N=C=O)cccc1N=C=O>\n",
       "89786-04-9      <Mol: CC1(Cn2ccnn2)C(C(=O)O)N2C(=O)CC2S1(=O)=O>\n",
       "2439-35-2                               <Mol: C=CC(=O)OCCN(C)C>\n",
       "95-94-3                             <Mol: Clc1cc(Cl)c(Cl)cc1Cl>\n",
       "                                    ...                        \n",
       "89930-60-9    <Mol: CCCn1cc2c3c(cccc31)C1C=C(C)CN(C)C1C2.O=C...\n",
       "9002-92-0             <Mol: CCCCCCCCCCCCOCCOCCOCCOCCOCCOCCOCCO>\n",
       "90597-22-1               <Mol: Nc1ccn(C2C=C(CO)C(O)C2O)c(=O)n1>\n",
       "924-43-6                                      <Mol: CCC(C)ON=O>\n",
       "97534-21-9              <Mol: O=C1NC(=S)NC(=O)C1C(=O)Nc1ccccc1>\n",
       "Name: structure, dtype: object"
      ]
     },
     "execution_count": 15,
     "metadata": {},
     "output_type": "execute_result"
    }
   ],
   "source": [
    "ms_raw = skchem.read_sdf('mols.sdf'); ms_raw"
   ]
  },
  {
   "cell_type": "markdown",
   "metadata": {},
   "source": [
    "And pandas to import the labels."
   ]
  },
  {
   "cell_type": "code",
   "execution_count": 5,
   "metadata": {
    "collapsed": false,
    "scrolled": true
   },
   "outputs": [
    {
     "data": {
      "text/plain": [
       "name\n",
       "1728-95-6        mutagen\n",
       "91-08-7          mutagen\n",
       "89786-04-9    nonmutagen\n",
       "2439-35-2     nonmutagen\n",
       "95-94-3       nonmutagen\n",
       "                 ...    \n",
       "89930-60-9       mutagen\n",
       "9002-92-0     nonmutagen\n",
       "90597-22-1    nonmutagen\n",
       "924-43-6         mutagen\n",
       "97534-21-9    nonmutagen\n",
       "Name: Ames test categorisation, dtype: object"
      ]
     },
     "execution_count": 5,
     "metadata": {},
     "output_type": "execute_result"
    }
   ],
   "source": [
    "y = pd.read_csv('labels.csv').set_index('name').squeeze(); y"
   ]
  },
  {
   "cell_type": "markdown",
   "metadata": {},
   "source": [
    "We will binarize the labels later."
   ]
  },
  {
   "cell_type": "markdown",
   "metadata": {},
   "source": [
    "Quickly check the class balance:"
   ]
  },
  {
   "cell_type": "code",
   "execution_count": 6,
   "metadata": {
    "collapsed": false
   },
   "outputs": [
    {
     "data": {
      "text/plain": [
       "<matplotlib.axes._subplots.AxesSubplot at 0x1219036a0>"
      ]
     },
     "execution_count": 6,
     "metadata": {},
     "output_type": "execute_result"
    },
    {
     "data": {
      "image/png": "[encoded data removed]",
      "text/plain": [
       "<matplotlib.figure.Figure at 0x1219f3470>"
      ]
     },
     "metadata": {},
     "output_type": "display_data"
    }
   ],
   "source": [
    "y.value_counts().plot.bar()"
   ]
  },
  {
   "cell_type": "markdown",
   "metadata": {},
   "source": [
    "The classes are (mercifully) quite balanced."
   ]
  },
  {
   "cell_type": "markdown",
   "metadata": {},
   "source": [
    "## Cleaning\n",
    "\n",
    "The data is unlikely to be canonicalized, and potentially contain broken or difficult molecules, so we will now clean it."
   ]
  },
  {
   "cell_type": "markdown",
   "metadata": {},
   "source": [
    "### Standardization\n",
    "\n",
    "The first step is to apply a `Transformer` to canonicalize the representations.  Specifically, we will use the ChemAxon Standardizer wrapper.  Some compounds are likely to fail this procedure, however they are likely to still be valid structures, so we will use the `keep_failed` configuration option on the object to keep these, rather than returning a None, or raising an error."
   ]
  },
  {
   "cell_type": "raw",
   "metadata": {},
   "source": [
    ".. tip::\n",
    "\n",
    "    ``Transformer`` s implement the ``transform`` method, which converts ``Mol`` s into *something else*.  This can either be another ``Mol``, such as in this case, or into a vector or even a number.  The result will be packaged as a ``pandas`` data structure of appropriate dimensionality."
   ]
  },
  {
   "cell_type": "code",
   "execution_count": 6,
   "metadata": {
    "collapsed": true
   },
   "outputs": [],
   "source": [
    "std = skchem.standardizers.ChemAxonStandardizer(keep_failed=True)"
   ]
  },
  {
   "cell_type": "code",
   "execution_count": 7,
   "metadata": {
    "collapsed": false
   },
   "outputs": [
    {
     "name": "stderr",
     "output_type": "stream",
     "text": [
      "ChemAxonStandardizer: 100% (4337 of 4337) |#################################################################################################| Elapsed Time: 0:00:22 Time: 0:00:22\n"
     ]
    },
    {
     "data": {
      "text/plain": [
       "name\n",
       "1728-95-6     <Mol: COc1ccc(-c2nc(-c3ccccc3)c(-c3ccccc3)[nH]...\n",
       "91-08-7                            <Mol: Cc1c(N=C=O)cccc1N=C=O>\n",
       "89786-04-9      <Mol: CC1(Cn2ccnn2)C(C(=O)O)N2C(=O)CC2S1(=O)=O>\n",
       "2439-35-2                               <Mol: C=CC(=O)OCCN(C)C>\n",
       "95-94-3                             <Mol: Clc1cc(Cl)c(Cl)cc1Cl>\n",
       "                                    ...                        \n",
       "89930-60-9          <Mol: CCCn1cc2c3c(cccc31)C1C=C(C)CN(C)C1C2>\n",
       "9002-92-0             <Mol: CCCCCCCCCCCCOCCOCCOCCOCCOCCOCCOCCO>\n",
       "90597-22-1               <Mol: Nc1ccn(C2C=C(CO)C(O)C2O)c(=O)n1>\n",
       "924-43-6                                      <Mol: CCC(C)ON=O>\n",
       "97534-21-9             <Mol: O=C(Nc1ccccc1)c1c(O)nc(=S)[nH]c1O>\n",
       "Name: structure, dtype: object"
      ]
     },
     "execution_count": 7,
     "metadata": {},
     "output_type": "execute_result"
    }
   ],
   "source": [
    "ms = std.transform(ms_raw); ms"
   ]
  },
  {
   "cell_type": "raw",
   "metadata": {},
   "source": [
    ".. tip::\n",
    "\n",
    "    This pattern is the typical way to handle all operations while using ``scikit-chem``.  The available configuration options for all classes may be found in the class's docstring, available in the :ref:`documentation <api>` or using the builtin ``help`` function."
   ]
  },
  {
   "cell_type": "markdown",
   "metadata": {},
   "source": [
    "### Filter undesirable molecules\n",
    "\n",
    "Next, we will remove molecules that are likely to not work well with the circular descriptors that we will use.  These are usually *large* or *inorganic* molecules.\n",
    "\n",
    "To do this, we will use some `Filters`, which implement the `filter` method."
   ]
  },
  {
   "cell_type": "raw",
   "metadata": {},
   "source": [
    ".. tip::\n",
    "\n",
    "    ``Filter`` s drop compounds that fail a predicicate. The results of the predicate can be found by using ``transform`` - that's right, each ``Filter`` is also a ``Transformer`` !  Labels with similar index can be passed in as a second argument, and will also be filtered and returned as a second return value."
   ]
  },
  {
   "cell_type": "code",
   "execution_count": 8,
   "metadata": {
    "collapsed": false
   },
   "outputs": [
    {
     "name": "stderr",
     "output_type": "stream",
     "text": [
      "OrganicFilter: 100% (4337 of 4337) |########################################################################################################| Elapsed Time: 0:00:04 Time: 0:00:04\n"
     ]
    }
   ],
   "source": [
    "of = skchem.filters.OrganicFilter()\n",
    "\n",
    "ms, y = of.filter(ms, y)"
   ]
  },
  {
   "cell_type": "code",
   "execution_count": 9,
   "metadata": {
    "collapsed": false
   },
   "outputs": [
    {
     "name": "stderr",
     "output_type": "stream",
     "text": [
      "\r",
      "MassFilter:   0% (  25 of 4337) |                                                                                                           | Elapsed Time: 0:00:00 ETA:  0:00:00\r",
      "MassFilter:   1% (  50 of 4337) |#                                                                                                          | Elapsed Time: 0:00:00 ETA:  0:00:00\r",
      "MassFilter:   1% (  74 of 4337) |#                                                                                                          | Elapsed Time: 0:00:00 ETA:  0:00:00\r",
      "MassFilter:   2% (  99 of 4337) |##                                                                                                         | Elapsed Time: 0:00:00 ETA:  0:00:00\r",
      "MassFilter:   2% ( 123 of 4337) |###                                                                                                        | Elapsed Time: 0:00:00 ETA:  0:00:00\r",
      "MassFilter:   3% ( 148 of 4337) |###                                                                                                        | Elapsed Time: 0:00:00 ETA:  0:00:00\r",
      "MassFilter:   3% ( 172 of 4337) |####                                                                                                       | Elapsed Time: 0:00:00 ETA:  0:00:00\r",
      "MassFilter:   4% ( 197 of 4337) |####                                                                                                       | Elapsed Time: 0:00:00 ETA:  0:00:00\r",
      "MassFilter:   5% ( 221 of 4337) |#####                                                                                                      | Elapsed Time: 0:00:00 ETA:  0:00:00\r",
      "MassFilter:   5% ( 246 of 4337) |######                                                                                                     | Elapsed Time: 0:00:00 ETA:  0:00:00\r",
      "MassFilter:   6% ( 270 of 4337) |######                                                                                                     | Elapsed Time: 0:00:00 ETA:  0:00:00\r",
      "MassFilter:   6% ( 295 of 4337) |#######                                                                                                    | Elapsed Time: 0:00:00 ETA:  0:00:00\r",
      "MassFilter:   7% ( 319 of 4337) |#######                                                                                                    | Elapsed Time: 0:00:00 ETA:  0:00:00\r",
      "MassFilter:   7% ( 344 of 4337) |########                                                                                                   | Elapsed Time: 0:00:00 ETA:  0:00:00\r",
      "MassFilter:   8% ( 368 of 4337) |#########                                                                                                  | Elapsed Time: 0:00:00 ETA:  0:00:00\r",
      "MassFilter:   9% ( 393 of 4337) |#########                                                                                                  | Elapsed Time: 0:00:00 ETA:  0:00:00\r",
      "MassFilter:   9% ( 417 of 4337) |##########                                                                                                 | Elapsed Time: 0:00:00 ETA:  0:00:00\r",
      "MassFilter:  10% ( 442 of 4337) |##########                                                                                                 | Elapsed Time: 0:00:00 ETA:  0:00:00\r",
      "MassFilter:  10% ( 466 of 4337) |###########                                                                                                | Elapsed Time: 0:00:00 ETA:  0:00:00\r",
      "MassFilter:  11% ( 491 of 4337) |############                                                                                               | Elapsed Time: 0:00:00 ETA:  0:00:00\r",
      "MassFilter:  11% ( 515 of 4337) |############                                                                                               | Elapsed Time: 0:00:00 ETA:  0:00:00\r",
      "MassFilter:  12% ( 540 of 4337) |#############                                                                                              | Elapsed Time: 0:00:00 ETA:  0:00:00\r",
      "MassFilter:  13% ( 564 of 4337) |#############                                                                                              | Elapsed Time: 0:00:00 ETA:  0:00:00\r",
      "MassFilter:  13% ( 589 of 4337) |##############                                                                                             | Elapsed Time: 0:00:00 ETA:  0:00:00\r",
      "MassFilter:  14% ( 613 of 4337) |###############                                                                                            | Elapsed Time: 0:00:00 ETA:  0:00:00\r",
      "MassFilter:  14% ( 638 of 4337) |###############                                                                                            | Elapsed Time: 0:00:00 ETA:  0:00:00\r",
      "MassFilter:  15% ( 662 of 4337) |################                                                                                           | Elapsed Time: 0:00:00 ETA:  0:00:00\r",
      "MassFilter:  15% ( 687 of 4337) |################                                                                                           | Elapsed Time: 0:00:00 ETA:  0:00:00\r",
      "MassFilter:  16% ( 711 of 4337) |#################                                                                                          | Elapsed Time: 0:00:00 ETA:  0:00:00\r",
      "MassFilter:  16% ( 736 of 4337) |##################                                                                                         | Elapsed Time: 0:00:00 ETA:  0:00:00\r",
      "MassFilter:  17% ( 760 of 4337) |##################                                                                                         | Elapsed Time: 0:00:00 ETA:  0:00:00\r",
      "MassFilter:  18% ( 785 of 4337) |###################                                                                                        | Elapsed Time: 0:00:00 ETA:  0:00:00\r",
      "MassFilter:  18% ( 809 of 4337) |###################                                                                                        | Elapsed Time: 0:00:00 ETA:  0:00:00\r",
      "MassFilter:  19% ( 834 of 4337) |####################                                                                                       | Elapsed Time: 0:00:00 ETA:  0:00:00\r",
      "MassFilter:  19% ( 858 of 4337) |#####################                                                                                      | Elapsed Time: 0:00:00 ETA:  0:00:00\r",
      "MassFilter:  20% ( 883 of 4337) |#####################                                                                                      | Elapsed Time: 0:00:00 ETA:  0:00:00\r",
      "MassFilter:  20% ( 907 of 4337) |######################                                                                                     | Elapsed Time: 0:00:00 ETA:  0:00:00\r",
      "MassFilter:  21% ( 932 of 4337) |######################                                                                                     | Elapsed Time: 0:00:00 ETA:  0:00:00\r",
      "MassFilter:  22% ( 956 of 4337) |#######################                                                                                    | Elapsed Time: 0:00:00 ETA:  0:00:00\r",
      "MassFilter:  22% ( 981 of 4337) |########################                                                                                   | Elapsed Time: 0:00:00 ETA:  0:00:00\r",
      "MassFilter:  23% (1005 of 4337) |########################                                                                                   | Elapsed Time: 0:00:00 ETA:  0:00:00\r",
      "MassFilter:  23% (1030 of 4337) |#########################                                                                                  | Elapsed Time: 0:00:00 ETA:  0:00:00\r",
      "MassFilter:  24% (1054 of 4337) |##########################                                                                                 | Elapsed Time: 0:00:00 ETA:  0:00:00\r",
      "MassFilter:  24% (1079 of 4337) |##########################                                                                                 | Elapsed Time: 0:00:00 ETA:  0:00:00\r",
      "MassFilter:  25% (1103 of 4337) |###########################                                                                                | Elapsed Time: 0:00:00 ETA:  0:00:00\r",
      "MassFilter:  26% (1128 of 4337) |###########################                                                                                | Elapsed Time: 0:00:00 ETA:  0:00:00\r",
      "MassFilter:  26% (1152 of 4337) |############################                                                                               | Elapsed Time: 0:00:00 ETA:  0:00:00\r",
      "MassFilter:  27% (1177 of 4337) |#############################                                                                              | Elapsed Time: 0:00:00 ETA:  0:00:00\r",
      "MassFilter:  27% (1201 of 4337) |#############################                                                                              | Elapsed Time: 0:00:00 ETA:  0:00:00\r",
      "MassFilter:  28% (1226 of 4337) |##############################                                                                             | Elapsed Time: 0:00:00 ETA:  0:00:00\r",
      "MassFilter:  28% (1250 of 4337) |##############################                                                                             | Elapsed Time: 0:00:00 ETA:  0:00:00\r",
      "MassFilter:  29% (1275 of 4337) |###############################                                                                            | Elapsed Time: 0:00:00 ETA:  0:00:00\r",
      "MassFilter:  29% (1299 of 4337) |################################                                                                           | Elapsed Time: 0:00:00 ETA:  0:00:00\r",
      "MassFilter:  30% (1324 of 4337) |################################                                                                           | Elapsed Time: 0:00:00 ETA:  0:00:00\r",
      "MassFilter:  31% (1348 of 4337) |#################################                                                                          | Elapsed Time: 0:00:00 ETA:  0:00:00\r",
      "MassFilter:  31% (1373 of 4337) |#################################                                                                          | Elapsed Time: 0:00:00 ETA:  0:00:00\r",
      "MassFilter:  32% (1397 of 4337) |##################################                                                                         | Elapsed Time: 0:00:00 ETA:  0:00:00\r",
      "MassFilter:  32% (1422 of 4337) |###################################                                                                        | Elapsed Time: 0:00:00 ETA:  0:00:00\r",
      "MassFilter:  33% (1446 of 4337) |###################################                                                                        | Elapsed Time: 0:00:00 ETA:  0:00:00\r",
      "MassFilter:  33% (1471 of 4337) |####################################                                                                       | Elapsed Time: 0:00:00 ETA:  0:00:00\r",
      "MassFilter:  34% (1495 of 4337) |####################################                                                                       | Elapsed Time: 0:00:00 ETA:  0:00:00\r",
      "MassFilter:  35% (1520 of 4337) |#####################################                                                                      | Elapsed Time: 0:00:00 ETA:  0:00:00\r",
      "MassFilter:  35% (1544 of 4337) |######################################                                                                     | Elapsed Time: 0:00:00 ETA:  0:00:00\r",
      "MassFilter:  36% (1569 of 4337) |######################################                                                                     | Elapsed Time: 0:00:00 ETA:  0:00:00\r",
      "MassFilter:  36% (1593 of 4337) |#######################################                                                                    | Elapsed Time: 0:00:00 ETA:  0:00:00\r",
      "MassFilter:  37% (1618 of 4337) |#######################################                                                                    | Elapsed Time: 0:00:00 ETA:  0:00:00\r",
      "MassFilter:  37% (1642 of 4337) |########################################                                                                   | Elapsed Time: 0:00:00 ETA:  0:00:00\r",
      "MassFilter:  38% (1667 of 4337) |#########################################                                                                  | Elapsed Time: 0:00:00 ETA:  0:00:00\r",
      "MassFilter:  38% (1691 of 4337) |#########################################                                                                  | Elapsed Time: 0:00:00 ETA:  0:00:00\r",
      "MassFilter:  39% (1716 of 4337) |##########################################                                                                 | Elapsed Time: 0:00:00 ETA:  0:00:00\r",
      "MassFilter:  40% (1740 of 4337) |##########################################                                                                 | Elapsed Time: 0:00:00 ETA:  0:00:00\r",
      "MassFilter:  40% (1765 of 4337) |###########################################                                                                | Elapsed Time: 0:00:00 ETA:  0:00:00\r",
      "MassFilter:  41% (1789 of 4337) |############################################                                                               | Elapsed Time: 0:00:00 ETA:  0:00:00\r",
      "MassFilter:  41% (1814 of 4337) |############################################                                                               | Elapsed Time: 0:00:00 ETA:  0:00:00\r",
      "MassFilter:  42% (1838 of 4337) |#############################################                                                              | Elapsed Time: 0:00:00 ETA:  0:00:00\r",
      "MassFilter:  42% (1863 of 4337) |#############################################                                                              | Elapsed Time: 0:00:00 ETA:  0:00:00\r",
      "MassFilter:  43% (1887 of 4337) |##############################################                                                             | Elapsed Time: 0:00:00 ETA:  0:00:00\r",
      "MassFilter:  44% (1912 of 4337) |###############################################                                                            | Elapsed Time: 0:00:00 ETA:  0:00:00\r",
      "MassFilter:  44% (1936 of 4337) |###############################################                                                            | Elapsed Time: 0:00:00 ETA:  0:00:00\r",
      "MassFilter:  45% (1961 of 4337) |################################################                                                           | Elapsed Time: 0:00:00 ETA:  0:00:00\r",
      "MassFilter:  45% (1985 of 4337) |################################################                                                           | Elapsed Time: 0:00:00 ETA:  0:00:00\r",
      "MassFilter:  46% (2010 of 4337) |#################################################                                                          | Elapsed Time: 0:00:00 ETA:  0:00:00\r",
      "MassFilter:  46% (2034 of 4337) |##################################################                                                         | Elapsed Time: 0:00:00 ETA:  0:00:00\r",
      "MassFilter:  47% (2059 of 4337) |##################################################                                                         | Elapsed Time: 0:00:00 ETA:  0:00:00\r",
      "MassFilter:  48% (2083 of 4337) |###################################################                                                        | Elapsed Time: 0:00:00 ETA:  0:00:00\r",
      "MassFilter:  48% (2108 of 4337) |####################################################                                                       | Elapsed Time: 0:00:00 ETA:  0:00:00\r",
      "MassFilter:  49% (2132 of 4337) |####################################################                                                       | Elapsed Time: 0:00:00 ETA:  0:00:00\r",
      "MassFilter:  49% (2157 of 4337) |#####################################################                                                      | Elapsed Time: 0:00:00 ETA:  0:00:00\r",
      "MassFilter:  50% (2181 of 4337) |#####################################################                                                      | Elapsed Time: 0:00:00 ETA:  0:00:00\r",
      "MassFilter:  50% (2206 of 4337) |######################################################                                                     | Elapsed Time: 0:00:00 ETA:  0:00:00\r",
      "MassFilter:  51% (2230 of 4337) |#######################################################                                                    | Elapsed Time: 0:00:00 ETA:  0:00:00\r",
      "MassFilter:  51% (2255 of 4337) |#######################################################                                                    | Elapsed Time: 0:00:00 ETA:  0:00:00\r",
      "MassFilter:  52% (2279 of 4337) |########################################################                                                   | Elapsed Time: 0:00:00 ETA:  0:00:00\r",
      "MassFilter:  53% (2304 of 4337) |########################################################                                                   | Elapsed Time: 0:00:00 ETA:  0:00:00\r",
      "MassFilter:  53% (2328 of 4337) |#########################################################                                                  | Elapsed Time: 0:00:00 ETA:  0:00:00\r",
      "MassFilter:  54% (2353 of 4337) |##########################################################                                                 | Elapsed Time: 0:00:00 ETA:  0:00:00\r",
      "MassFilter:  54% (2377 of 4337) |##########################################################                                                 | Elapsed Time: 0:00:00 ETA:  0:00:00\r",
      "MassFilter:  55% (2402 of 4337) |###########################################################                                                | Elapsed Time: 0:00:00 ETA:  0:00:00\r",
      "MassFilter:  55% (2426 of 4337) |###########################################################                                                | Elapsed Time: 0:00:00 ETA:  0:00:00\r",
      "MassFilter:  56% (2451 of 4337) |############################################################                                               | Elapsed Time: 0:00:00 ETA:  0:00:00\r",
      "MassFilter:  57% (2475 of 4337) |#############################################################                                              | Elapsed Time: 0:00:00 ETA:  0:00:00\r",
      "MassFilter:  57% (2500 of 4337) |#############################################################                                              | Elapsed Time: 0:00:00 ETA:  0:00:00\r",
      "MassFilter:  58% (2524 of 4337) |##############################################################                                             | Elapsed Time: 0:00:00 ETA:  0:00:00\r",
      "MassFilter:  58% (2549 of 4337) |##############################################################                                             | Elapsed Time: 0:00:00 ETA:  0:00:00\r",
      "MassFilter:  59% (2573 of 4337) |###############################################################                                            | Elapsed Time: 0:00:00 ETA:  0:00:00\r",
      "MassFilter:  59% (2598 of 4337) |################################################################                                           | Elapsed Time: 0:00:00 ETA:  0:00:00\r",
      "MassFilter:  60% (2622 of 4337) |################################################################                                           | Elapsed Time: 0:00:00 ETA:  0:00:00\r",
      "MassFilter:  61% (2647 of 4337) |#################################################################                                          | Elapsed Time: 0:00:00 ETA:  0:00:00\r",
      "MassFilter:  61% (2671 of 4337) |#################################################################                                          | Elapsed Time: 0:00:00 ETA:  0:00:00\r",
      "MassFilter:  62% (2696 of 4337) |##################################################################                                         | Elapsed Time: 0:00:00 ETA:  0:00:00\r",
      "MassFilter:  62% (2720 of 4337) |###################################################################                                        | Elapsed Time: 0:00:00 ETA:  0:00:00\r",
      "MassFilter:  63% (2745 of 4337) |###################################################################                                        | Elapsed Time: 0:00:00 ETA:  0:00:00\r",
      "MassFilter:  63% (2769 of 4337) |####################################################################                                       | Elapsed Time: 0:00:00 ETA:  0:00:00\r",
      "MassFilter:  64% (2794 of 4337) |####################################################################                                       | Elapsed Time: 0:00:00 ETA:  0:00:00\r",
      "MassFilter:  64% (2818 of 4337) |#####################################################################                                      | Elapsed Time: 0:00:00 ETA:  0:00:00\r",
      "MassFilter:  65% (2843 of 4337) |######################################################################                                     | Elapsed Time: 0:00:00 ETA:  0:00:00\r",
      "MassFilter:  66% (2867 of 4337) |######################################################################                                     | Elapsed Time: 0:00:00 ETA:  0:00:00\r",
      "MassFilter:  66% (2892 of 4337) |#######################################################################                                    | Elapsed Time: 0:00:00 ETA:  0:00:00\r",
      "MassFilter:  67% (2916 of 4337) |#######################################################################                                    | Elapsed Time: 0:00:00 ETA:  0:00:00\r",
      "MassFilter:  67% (2941 of 4337) |########################################################################                                   | Elapsed Time: 0:00:00 ETA:  0:00:00\r",
      "MassFilter:  68% (2965 of 4337) |#########################################################################                                  | Elapsed Time: 0:00:00 ETA:  0:00:00\r",
      "MassFilter:  68% (2990 of 4337) |#########################################################################                                  | Elapsed Time: 0:00:00 ETA:  0:00:00\r",
      "MassFilter:  69% (3014 of 4337) |##########################################################################                                 | Elapsed Time: 0:00:00 ETA:  0:00:00\r",
      "MassFilter:  70% (3039 of 4337) |##########################################################################                                 | Elapsed Time: 0:00:00 ETA:  0:00:00\r",
      "MassFilter:  70% (3063 of 4337) |###########################################################################                                | Elapsed Time: 0:00:00 ETA:  0:00:00\r",
      "MassFilter:  71% (3088 of 4337) |############################################################################                               | Elapsed Time: 0:00:00 ETA:  0:00:00\r",
      "MassFilter:  71% (3112 of 4337) |############################################################################                               | Elapsed Time: 0:00:00 ETA:  0:00:00\r",
      "MassFilter:  72% (3137 of 4337) |#############################################################################                              | Elapsed Time: 0:00:00 ETA:  0:00:00\r",
      "MassFilter:  72% (3161 of 4337) |#############################################################################                              | Elapsed Time: 0:00:00 ETA:  0:00:00\r",
      "MassFilter:  73% (3186 of 4337) |##############################################################################                             | Elapsed Time: 0:00:00 ETA:  0:00:00\r",
      "MassFilter:  74% (3210 of 4337) |###############################################################################                            | Elapsed Time: 0:00:00 ETA:  0:00:00\r",
      "MassFilter:  74% (3235 of 4337) |###############################################################################                            | Elapsed Time: 0:00:00 ETA:  0:00:00\r",
      "MassFilter:  75% (3259 of 4337) |################################################################################                           | Elapsed Time: 0:00:00 ETA:  0:00:00\r",
      "MassFilter:  75% (3284 of 4337) |#################################################################################                          | Elapsed Time: 0:00:00 ETA:  0:00:00\r",
      "MassFilter:  76% (3308 of 4337) |#################################################################################                          | Elapsed Time: 0:00:00 ETA:  0:00:00\r",
      "MassFilter:  76% (3333 of 4337) |##################################################################################                         | Elapsed Time: 0:00:00 ETA:  0:00:00\r",
      "MassFilter:  77% (3357 of 4337) |##################################################################################                         | Elapsed Time: 0:00:00 ETA:  0:00:00\r",
      "MassFilter:  77% (3382 of 4337) |###################################################################################                        | Elapsed Time: 0:00:00 ETA:  0:00:00\r",
      "MassFilter:  78% (3406 of 4337) |####################################################################################                       | Elapsed Time: 0:00:00 ETA:  0:00:00\r",
      "MassFilter:  79% (3431 of 4337) |####################################################################################                       | Elapsed Time: 0:00:00 ETA:  0:00:00\r",
      "MassFilter:  79% (3455 of 4337) |#####################################################################################                      | Elapsed Time: 0:00:00 ETA:  0:00:00\r",
      "MassFilter:  80% (3480 of 4337) |#####################################################################################                      | Elapsed Time: 0:00:00 ETA:  0:00:00\r",
      "MassFilter:  80% (3504 of 4337) |######################################################################################                     | Elapsed Time: 0:00:00 ETA:  0:00:00\r",
      "MassFilter:  81% (3529 of 4337) |#######################################################################################                    | Elapsed Time: 0:00:00 ETA:  0:00:00\r",
      "MassFilter:  81% (3553 of 4337) |#######################################################################################                    | Elapsed Time: 0:00:00 ETA:  0:00:00\r",
      "MassFilter:  82% (3578 of 4337) |########################################################################################                   | Elapsed Time: 0:00:00 ETA:  0:00:00\r",
      "MassFilter:  83% (3602 of 4337) |########################################################################################                   | Elapsed Time: 0:00:00 ETA:  0:00:00\r",
      "MassFilter:  83% (3627 of 4337) |#########################################################################################                  | Elapsed Time: 0:00:00 ETA:  0:00:00\r",
      "MassFilter:  84% (3651 of 4337) |##########################################################################################                 | Elapsed Time: 0:00:00 ETA:  0:00:00\r",
      "MassFilter:  84% (3676 of 4337) |##########################################################################################                 | Elapsed Time: 0:00:00 ETA:  0:00:00\r",
      "MassFilter:  85% (3700 of 4337) |###########################################################################################                | Elapsed Time: 0:00:00 ETA:  0:00:00\r",
      "MassFilter:  85% (3725 of 4337) |###########################################################################################                | Elapsed Time: 0:00:00 ETA:  0:00:00\r",
      "MassFilter:  86% (3749 of 4337) |############################################################################################               | Elapsed Time: 0:00:00 ETA:  0:00:00\r",
      "MassFilter:  87% (3774 of 4337) |#############################################################################################              | Elapsed Time: 0:00:00 ETA:  0:00:00\r",
      "MassFilter:  87% (3798 of 4337) |#############################################################################################              | Elapsed Time: 0:00:00 ETA:  0:00:00\r",
      "MassFilter:  88% (3823 of 4337) |##############################################################################################             | Elapsed Time: 0:00:00 ETA:  0:00:00\r",
      "MassFilter:  88% (3847 of 4337) |##############################################################################################             | Elapsed Time: 0:00:00 ETA:  0:00:00\r",
      "MassFilter:  89% (3872 of 4337) |###############################################################################################            | Elapsed Time: 0:00:00 ETA:  0:00:00\r",
      "MassFilter:  89% (3896 of 4337) |################################################################################################           | Elapsed Time: 0:00:00 ETA:  0:00:00\r",
      "MassFilter:  90% (3921 of 4337) |################################################################################################           | Elapsed Time: 0:00:00 ETA:  0:00:00\r",
      "MassFilter:  90% (3945 of 4337) |#################################################################################################          | Elapsed Time: 0:00:00 ETA:  0:00:00\r",
      "MassFilter:  91% (3970 of 4337) |#################################################################################################          | Elapsed Time: 0:00:00 ETA:  0:00:00\r",
      "MassFilter:  92% (3994 of 4337) |##################################################################################################         | Elapsed Time: 0:00:00 ETA:  0:00:00\r",
      "MassFilter:  92% (4019 of 4337) |###################################################################################################        | Elapsed Time: 0:00:00 ETA:  0:00:00\r",
      "MassFilter:  93% (4043 of 4337) |###################################################################################################        | Elapsed Time: 0:00:00 ETA:  0:00:00\r",
      "MassFilter:  93% (4068 of 4337) |####################################################################################################       | Elapsed Time: 0:00:00 ETA:  0:00:00\r",
      "MassFilter:  94% (4092 of 4337) |####################################################################################################       | Elapsed Time: 0:00:00 ETA:  0:00:00\r",
      "MassFilter:  94% (4117 of 4337) |#####################################################################################################      | Elapsed Time: 0:00:00 ETA:  0:00:00\r",
      "MassFilter:  95% (4141 of 4337) |######################################################################################################     | Elapsed Time: 0:00:00 ETA:  0:00:00\r",
      "MassFilter:  96% (4166 of 4337) |######################################################################################################     | Elapsed Time: 0:00:00 ETA:  0:00:00\r",
      "MassFilter:  96% (4190 of 4337) |#######################################################################################################    | Elapsed Time: 0:00:00 ETA:  0:00:00\r",
      "MassFilter:  97% (4215 of 4337) |#######################################################################################################    | Elapsed Time: 0:00:00 ETA:  0:00:00\r",
      "MassFilter:  97% (4239 of 4337) |########################################################################################################   | Elapsed Time: 0:00:00 ETA:  0:00:00\r",
      "MassFilter:  98% (4264 of 4337) |#########################################################################################################  | Elapsed Time: 0:00:00 ETA:  0:00:00\r",
      "MassFilter:  98% (4288 of 4337) |#########################################################################################################  | Elapsed Time: 0:00:00 ETA:  0:00:00\r",
      "MassFilter:  99% (4313 of 4337) |########################################################################################################## | Elapsed Time: 0:00:00 ETA:  0:00:00\r",
      "MassFilter: 100% (4337 of 4337) |###########################################################################################################| Elapsed Time: 0:00:00 Time: 0:00:00\n"
     ]
    }
   ],
   "source": [
    "mf = skchem.filters.MassFilter(above=100, below=900)\n",
    "\n",
    "ms, y = mf.filter(ms, y)"
   ]
  },
  {
   "cell_type": "code",
   "execution_count": 10,
   "metadata": {
    "collapsed": false
   },
   "outputs": [
    {
     "name": "stderr",
     "output_type": "stream",
     "text": [
      "AtomNumberFilter: 100% (4068 of 4068) |#####################################################################################################| Elapsed Time: 0:00:00 Time: 0:00:00\n"
     ]
    }
   ],
   "source": [
    "nf = skchem.filters.AtomNumberFilter(above=5, below=100, include_hydrogens=True)\n",
    "\n",
    "ms, y = nf.filter(ms, y)"
   ]
  },
  {
   "cell_type": "markdown",
   "metadata": {},
   "source": [
    "### Optimize Geometry\n",
    "\n",
    "We would like to calculate some features that require three dimensional coordinates, so we will next calculate three dimensional conformers using the Universal Force Field.  Additionally, some compounds may be unfeasible - these should be dropped from the dataset. In order to do this, we will use the `transform_filter` method:"
   ]
  },
  {
   "cell_type": "code",
   "execution_count": 11,
   "metadata": {
    "collapsed": false
   },
   "outputs": [
    {
     "name": "stderr",
     "output_type": "stream",
     "text": [
      "/Users/rich/projects/scikit-chem/skchem/forcefields/base.py:54: UserWarning: Failed to Embed Molecule 109883-99-0\n",
      "  warnings.warn(msg)\n",
      "/Users/rich/projects/scikit-chem/skchem/forcefields/base.py:54: UserWarning: Failed to Embed Molecule 135768-83-1\n",
      "  warnings.warn(msg)\n",
      "/Users/rich/projects/scikit-chem/skchem/forcefields/base.py:54: UserWarning: Failed to Embed Molecule 13366-73-9\n",
      "  warnings.warn(msg)\n",
      "UFF: 100% (4046 of 4046) |##################################################################################################################| Elapsed Time: 0:01:23 Time: 0:01:23\n"
     ]
    }
   ],
   "source": [
    "uff = skchem.forcefields.UFF()\n",
    "\n",
    "ms, y = uff.transform_filter(ms, y)"
   ]
  },
  {
   "cell_type": "code",
   "execution_count": 12,
   "metadata": {
    "collapsed": false
   },
   "outputs": [
    {
     "data": {
      "text/plain": [
       "4043"
      ]
     },
     "execution_count": 12,
     "metadata": {},
     "output_type": "execute_result"
    }
   ],
   "source": [
    "len(ms)"
   ]
  },
  {
   "cell_type": "markdown",
   "metadata": {},
   "source": [
    "As we can see, we get a warning that 3 molecules failed to embed, have been dropped.  If we didn't care about the warnings, we could have set the `warn_on_fail` property to `False` (or set it using a keyword argument at initialization).  Conversely, if we *really* cared about failures, we could have set `error_on_fail` to True, which would raise an Error if any `Mol`s failed to embed."
   ]
  },
  {
   "cell_type": "raw",
   "metadata": {},
   "source": [
    ".. tip::\n",
    "\n",
    "    ``TransformFilter`` s implement the ``transform_filter`` method.  This is a combination of ``transform`` and ``filter`` , which converts ``Mol`` s into *something else* **and** drops instances that fail the predicate.  The ``ChemAxonStandardizer`` object is also a ``TransformFilter``, as it can drop ``Mol`` s that fail to standardize."
   ]
  },
  {
   "cell_type": "markdown",
   "metadata": {},
   "source": [
    "### Visualize Chemical Space\n",
    "\n",
    "`scikit-chem` adds a custom `mol` accessor to `pandas.Series`, which provides a shorthand for calling methods on all `Mol`s in the collection.  This is analogous to the `str` accessor:"
   ]
  },
  {
   "cell_type": "code",
   "execution_count": 14,
   "metadata": {
    "collapsed": false
   },
   "outputs": [
    {
     "data": {
      "text/html": [
       "<div>\n",
       "<table border=\"1\" class=\"dataframe\">\n",
       "  <thead>\n",
       "    <tr style=\"text-align: right;\">\n",
       "      <th></th>\n",
       "      <th>mutagen</th>\n",
       "      <th>nonmutagen</th>\n",
       "    </tr>\n",
       "    <tr>\n",
       "      <th>name</th>\n",
       "      <th></th>\n",
       "      <th></th>\n",
       "    </tr>\n",
       "  </thead>\n",
       "  <tbody>\n",
       "    <tr>\n",
       "      <th>1728-95-6</th>\n",
       "      <td>1</td>\n",
       "      <td>0</td>\n",
       "    </tr>\n",
       "    <tr>\n",
       "      <th>91-08-7</th>\n",
       "      <td>1</td>\n",
       "      <td>0</td>\n",
       "    </tr>\n",
       "    <tr>\n",
       "      <th>89786-04-9</th>\n",
       "      <td>0</td>\n",
       "      <td>1</td>\n",
       "    </tr>\n",
       "    <tr>\n",
       "      <th>2439-35-2</th>\n",
       "      <td>0</td>\n",
       "      <td>1</td>\n",
       "    </tr>\n",
       "    <tr>\n",
       "      <th>95-94-3</th>\n",
       "      <td>0</td>\n",
       "      <td>1</td>\n",
       "    </tr>\n",
       "    <tr>\n",
       "      <th>...</th>\n",
       "      <td>...</td>\n",
       "      <td>...</td>\n",
       "    </tr>\n",
       "    <tr>\n",
       "      <th>89930-60-9</th>\n",
       "      <td>1</td>\n",
       "      <td>0</td>\n",
       "    </tr>\n",
       "    <tr>\n",
       "      <th>9002-92-0</th>\n",
       "      <td>0</td>\n",
       "      <td>1</td>\n",
       "    </tr>\n",
       "    <tr>\n",
       "      <th>90597-22-1</th>\n",
       "      <td>0</td>\n",
       "      <td>1</td>\n",
       "    </tr>\n",
       "    <tr>\n",
       "      <th>924-43-6</th>\n",
       "      <td>1</td>\n",
       "      <td>0</td>\n",
       "    </tr>\n",
       "    <tr>\n",
       "      <th>97534-21-9</th>\n",
       "      <td>0</td>\n",
       "      <td>1</td>\n",
       "    </tr>\n",
       "  </tbody>\n",
       "</table>\n",
       "<p>4043 rows × 2 columns</p>\n",
       "</div>"
      ],
      "text/plain": [
       "            mutagen  nonmutagen\n",
       "name                           \n",
       "1728-95-6         1           0\n",
       "91-08-7           1           0\n",
       "89786-04-9        0           1\n",
       "2439-35-2         0           1\n",
       "95-94-3           0           1\n",
       "...             ...         ...\n",
       "89930-60-9        1           0\n",
       "9002-92-0         0           1\n",
       "90597-22-1        0           1\n",
       "924-43-6          1           0\n",
       "97534-21-9        0           1\n",
       "\n",
       "[4043 rows x 2 columns]"
      ]
     },
     "execution_count": 14,
     "metadata": {},
     "output_type": "execute_result"
    }
   ],
   "source": [
    "y.str.get_dummies()"
   ]
  },
  {
   "cell_type": "markdown",
   "metadata": {},
   "source": [
    "We will use this function to binarize the labels:"
   ]
  },
  {
   "cell_type": "code",
   "execution_count": 25,
   "metadata": {
    "collapsed": false
   },
   "outputs": [],
   "source": [
    "y = y.str.get_dummies()['mutagen']"
   ]
  },
  {
   "cell_type": "markdown",
   "metadata": {},
   "source": [
    "Amongst other options, it is provides access to chemical space plotting functionality.  This will featurize the molecules using a passed featurizer (or a string shortcut), and a dimensionality reduction technique to reduce the feature space to two dimensions, which are then plotted.  In this example, we use circular Morgan fingerprints, reduced by [t-SNE](https://lvdmaaten.github.io/tsne) to visualize structural diversity in the dataset."
   ]
  },
  {
   "cell_type": "code",
   "execution_count": 16,
   "metadata": {
    "collapsed": false
   },
   "outputs": [
    {
     "data": {
      "image/png": "[encoded data removed]",
      "text/plain": [
       "<matplotlib.figure.Figure at 0x127a37eb8>"
      ]
     },
     "metadata": {},
     "output_type": "display_data"
    }
   ],
   "source": [
    "ms.mol.visualize(fper='morgan',\n",
    "                 dim_red='tsne', dim_red_kw={'method': 'exact'}, \n",
    "                 c=y, \n",
    "                 cmap='copper')"
   ]
  },
  {
   "cell_type": "markdown",
   "metadata": {},
   "source": [
    "The data appears to be reasonably separable in structural space, so we may suspect that Morgan fingerprints will be a good representation for modelling the data."
   ]
  },
  {
   "cell_type": "markdown",
   "metadata": {},
   "source": [
    "## Featurizing the data\n",
    "\n",
    "As previously noted, Morgan fingerprints would be a good fit for this data.  To calculate them, we will use the `MorganFeaturizer` class, which is a `Transformer`."
   ]
  },
  {
   "cell_type": "code",
   "execution_count": 13,
   "metadata": {
    "collapsed": false
   },
   "outputs": [
    {
     "name": "stderr",
     "output_type": "stream",
     "text": [
      "MorganFeaturizer: 100% (4043 of 4043) |#####################################################################################################| Elapsed Time: 0:00:00 Time: 0:00:00\n"
     ]
    },
    {
     "data": {
      "text/html": [
       "<div>\n",
       "<table border=\"1\" class=\"dataframe\">\n",
       "  <thead>\n",
       "    <tr style=\"text-align: right;\">\n",
       "      <th>morgan_fp_idx</th>\n",
       "      <th>0</th>\n",
       "      <th>1</th>\n",
       "      <th>2</th>\n",
       "      <th>3</th>\n",
       "      <th>4</th>\n",
       "      <th>...</th>\n",
       "      <th>2043</th>\n",
       "      <th>2044</th>\n",
       "      <th>2045</th>\n",
       "      <th>2046</th>\n",
       "      <th>2047</th>\n",
       "    </tr>\n",
       "    <tr>\n",
       "      <th>name</th>\n",
       "      <th></th>\n",
       "      <th></th>\n",
       "      <th></th>\n",
       "      <th></th>\n",
       "      <th></th>\n",
       "      <th></th>\n",
       "      <th></th>\n",
       "      <th></th>\n",
       "      <th></th>\n",
       "      <th></th>\n",
       "      <th></th>\n",
       "    </tr>\n",
       "  </thead>\n",
       "  <tbody>\n",
       "    <tr>\n",
       "      <th>1728-95-6</th>\n",
       "      <td>0</td>\n",
       "      <td>0</td>\n",
       "      <td>0</td>\n",
       "      <td>0</td>\n",
       "      <td>0</td>\n",
       "      <td>...</td>\n",
       "      <td>0</td>\n",
       "      <td>0</td>\n",
       "      <td>0</td>\n",
       "      <td>0</td>\n",
       "      <td>0</td>\n",
       "    </tr>\n",
       "    <tr>\n",
       "      <th>91-08-7</th>\n",
       "      <td>0</td>\n",
       "      <td>0</td>\n",
       "      <td>0</td>\n",
       "      <td>0</td>\n",
       "      <td>0</td>\n",
       "      <td>...</td>\n",
       "      <td>0</td>\n",
       "      <td>0</td>\n",
       "      <td>0</td>\n",
       "      <td>0</td>\n",
       "      <td>0</td>\n",
       "    </tr>\n",
       "    <tr>\n",
       "      <th>89786-04-9</th>\n",
       "      <td>0</td>\n",
       "      <td>0</td>\n",
       "      <td>0</td>\n",
       "      <td>0</td>\n",
       "      <td>0</td>\n",
       "      <td>...</td>\n",
       "      <td>0</td>\n",
       "      <td>0</td>\n",
       "      <td>0</td>\n",
       "      <td>0</td>\n",
       "      <td>0</td>\n",
       "    </tr>\n",
       "    <tr>\n",
       "      <th>2439-35-2</th>\n",
       "      <td>0</td>\n",
       "      <td>0</td>\n",
       "      <td>0</td>\n",
       "      <td>0</td>\n",
       "      <td>0</td>\n",
       "      <td>...</td>\n",
       "      <td>0</td>\n",
       "      <td>0</td>\n",
       "      <td>0</td>\n",
       "      <td>0</td>\n",
       "      <td>0</td>\n",
       "    </tr>\n",
       "    <tr>\n",
       "      <th>95-94-3</th>\n",
       "      <td>0</td>\n",
       "      <td>0</td>\n",
       "      <td>0</td>\n",
       "      <td>0</td>\n",
       "      <td>0</td>\n",
       "      <td>...</td>\n",
       "      <td>0</td>\n",
       "      <td>0</td>\n",
       "      <td>0</td>\n",
       "      <td>0</td>\n",
       "      <td>0</td>\n",
       "    </tr>\n",
       "    <tr>\n",
       "      <th>...</th>\n",
       "      <td>...</td>\n",
       "      <td>...</td>\n",
       "      <td>...</td>\n",
       "      <td>...</td>\n",
       "      <td>...</td>\n",
       "      <td>...</td>\n",
       "      <td>...</td>\n",
       "      <td>...</td>\n",
       "      <td>...</td>\n",
       "      <td>...</td>\n",
       "      <td>...</td>\n",
       "    </tr>\n",
       "    <tr>\n",
       "      <th>89930-60-9</th>\n",
       "      <td>0</td>\n",
       "      <td>0</td>\n",
       "      <td>0</td>\n",
       "      <td>0</td>\n",
       "      <td>0</td>\n",
       "      <td>...</td>\n",
       "      <td>0</td>\n",
       "      <td>0</td>\n",
       "      <td>0</td>\n",
       "      <td>0</td>\n",
       "      <td>0</td>\n",
       "    </tr>\n",
       "    <tr>\n",
       "      <th>9002-92-0</th>\n",
       "      <td>0</td>\n",
       "      <td>0</td>\n",
       "      <td>0</td>\n",
       "      <td>0</td>\n",
       "      <td>0</td>\n",
       "      <td>...</td>\n",
       "      <td>1</td>\n",
       "      <td>0</td>\n",
       "      <td>1</td>\n",
       "      <td>0</td>\n",
       "      <td>0</td>\n",
       "    </tr>\n",
       "    <tr>\n",
       "      <th>90597-22-1</th>\n",
       "      <td>0</td>\n",
       "      <td>0</td>\n",
       "      <td>0</td>\n",
       "      <td>0</td>\n",
       "      <td>0</td>\n",
       "      <td>...</td>\n",
       "      <td>0</td>\n",
       "      <td>0</td>\n",
       "      <td>0</td>\n",
       "      <td>0</td>\n",
       "      <td>0</td>\n",
       "    </tr>\n",
       "    <tr>\n",
       "      <th>924-43-6</th>\n",
       "      <td>0</td>\n",
       "      <td>0</td>\n",
       "      <td>0</td>\n",
       "      <td>0</td>\n",
       "      <td>0</td>\n",
       "      <td>...</td>\n",
       "      <td>0</td>\n",
       "      <td>0</td>\n",
       "      <td>0</td>\n",
       "      <td>0</td>\n",
       "      <td>0</td>\n",
       "    </tr>\n",
       "    <tr>\n",
       "      <th>97534-21-9</th>\n",
       "      <td>0</td>\n",
       "      <td>0</td>\n",
       "      <td>0</td>\n",
       "      <td>0</td>\n",
       "      <td>0</td>\n",
       "      <td>...</td>\n",
       "      <td>0</td>\n",
       "      <td>0</td>\n",
       "      <td>0</td>\n",
       "      <td>0</td>\n",
       "      <td>0</td>\n",
       "    </tr>\n",
       "  </tbody>\n",
       "</table>\n",
       "<p>4043 rows × 2048 columns</p>\n",
       "</div>"
      ],
      "text/plain": [
       "morgan_fp_idx  0     1     2     3     4     ...   2043  2044  2045  2046  \\\n",
       "name                                         ...                            \n",
       "1728-95-6         0     0     0     0     0  ...      0     0     0     0   \n",
       "91-08-7           0     0     0     0     0  ...      0     0     0     0   \n",
       "89786-04-9        0     0     0     0     0  ...      0     0     0     0   \n",
       "2439-35-2         0     0     0     0     0  ...      0     0     0     0   \n",
       "95-94-3           0     0     0     0     0  ...      0     0     0     0   \n",
       "...             ...   ...   ...   ...   ...  ...    ...   ...   ...   ...   \n",
       "89930-60-9        0     0     0     0     0  ...      0     0     0     0   \n",
       "9002-92-0         0     0     0     0     0  ...      1     0     1     0   \n",
       "90597-22-1        0     0     0     0     0  ...      0     0     0     0   \n",
       "924-43-6          0     0     0     0     0  ...      0     0     0     0   \n",
       "97534-21-9        0     0     0     0     0  ...      0     0     0     0   \n",
       "\n",
       "morgan_fp_idx  2047  \n",
       "name                 \n",
       "1728-95-6         0  \n",
       "91-08-7           0  \n",
       "89786-04-9        0  \n",
       "2439-35-2         0  \n",
       "95-94-3           0  \n",
       "...             ...  \n",
       "89930-60-9        0  \n",
       "9002-92-0         0  \n",
       "90597-22-1        0  \n",
       "924-43-6          0  \n",
       "97534-21-9        0  \n",
       "\n",
       "[4043 rows x 2048 columns]"
      ]
     },
     "execution_count": 13,
     "metadata": {},
     "output_type": "execute_result"
    }
   ],
   "source": [
    "mf = skchem.descriptors.MorganFeaturizer()\n",
    "\n",
    "X, y = mf.transform(ms, y); X"
   ]
  },
  {
   "cell_type": "markdown",
   "metadata": {},
   "source": [
    "## Pipelining\n",
    "\n",
    "If this process appeared unnecessarily laborious (as it should!), `scikit-chem` provides a `Pipeline` class that will sequentially apply objects passed to it. For this example, we could have simply performed:"
   ]
  },
  {
   "cell_type": "code",
   "execution_count": 16,
   "metadata": {
    "collapsed": false
   },
   "outputs": [
    {
     "name": "stderr",
     "output_type": "stream",
     "text": [
      "ChemAxonStandardizer: 100% (4337 of 4337) |#################################################################################################| Elapsed Time: 0:00:23 Time: 0:00:23\n",
      "OrganicFilter: 100% (4337 of 4337) |########################################################################################################| Elapsed Time: 0:00:04 Time: 0:00:04\n",
      "MassFilter: 100% (4337 of 4337) |###########################################################################################################| Elapsed Time: 0:00:00 Time: 0:00:00\n",
      "AtomNumberFilter: 100% (4074 of 4074) |#####################################################################################################| Elapsed Time: 0:00:00 Time: 0:00:00\n",
      "MorganFeaturizer: 100% (4064 of 4064) |#####################################################################################################| Elapsed Time: 0:00:00 Time: 0:00:00\n"
     ]
    }
   ],
   "source": [
    "pipeline = skchem.pipeline.Pipeline([\n",
    "        skchem.standardizers.ChemAxonStandardizer(keep_failed=True),\n",
    "        skchem.filters.OrganicFilter(),\n",
    "        skchem.filters.MassFilter(above=100, below=1000),\n",
    "        skchem.filters.AtomNumberFilter(above=5, below=100),\n",
    "        skchem.descriptors.MorganFeaturizer()\n",
    "])\n",
    "\n",
    "X, y = pipeline.transform_filter(ms_raw, y)"
   ]
  },
  {
   "cell_type": "markdown",
   "metadata": {},
   "source": [
    "## Modelling the data\n",
    "\n"
   ]
  },
  {
   "cell_type": "markdown",
   "metadata": {},
   "source": [
    "In this section, we will try building some basic [scikit-learn](http://scikit-learn.org) models on the data."
   ]
  },
  {
   "cell_type": "markdown",
   "metadata": {},
   "source": [
    "### Partitioning the data\n",
    "\n",
    "To decide on the best model to use, we should perform some model selection.  This will require comparing the relative performance of a selection of candidate molecules each trained on the same **train** set, and evaluated on a **validation** set.\n",
    "\n",
    "In *cheminformatics*, partitioning datasets usually requires some thought, as chemical datasets usually vastly overrepresent certain *scaffolds*, and underrepresent others.  In order to get as unbiased an estimate of performance as possible, one can either downsample compounds in a region of high density, or artifically favor splits that pool in the same split molecules that are too close in chemical space.\n",
    "\n",
    "`scikit-chem` provides this functionality in the `SimThresholdSplit` class, which applies single link heirachical clustering to produce a large number of clusters consisting of highly similar compounds.  These clusters are then randomly assigned to the desired splits, such that no split contains compounds that are more similar to compounds in any other split than the clustering threshold."
   ]
  },
  {
   "cell_type": "code",
   "execution_count": 26,
   "metadata": {
    "collapsed": false
   },
   "outputs": [],
   "source": [
    "cv = skchem.cross_validation.SimThresholdSplit(fper=None, n_jobs=4).fit(X)\n",
    "train, valid, test = cv.split((60, 20, 20))\n",
    "X_train, X_valid, X_test = X[train], X[valid], X[test]\n",
    "y_train, y_valid, y_test = y[train], y[valid], y[test]"
   ]
  },
  {
   "cell_type": "markdown",
   "metadata": {},
   "source": [
    "### Model selection"
   ]
  },
  {
   "cell_type": "raw",
   "metadata": {},
   "source": [
    ".. todo:: \n",
    "    \n",
    "    Improve the modelling section:\n",
    "    \n",
    "    - More features\n",
    "    - More models\n",
    "    - Grid Searches over skchem cross validation indexes"
   ]
  },
  {
   "cell_type": "code",
   "execution_count": 27,
   "metadata": {
    "collapsed": false
   },
   "outputs": [],
   "source": [
    "import sklearn.ensemble\n",
    "import sklearn.linear_model\n",
    "import sklearn.naive_bayes"
   ]
  },
  {
   "cell_type": "code",
   "execution_count": 28,
   "metadata": {
    "collapsed": false
   },
   "outputs": [],
   "source": [
    "rf = sklearn.ensemble.RandomForestClassifier(n_estimators=100)\n",
    "nb = sklearn.naive_bayes.BernoulliNB()\n",
    "lr = sklearn.linear_model.LogisticRegression()"
   ]
  },
  {
   "cell_type": "code",
   "execution_count": 30,
   "metadata": {
    "collapsed": false
   },
   "outputs": [
    {
     "name": "stdout",
     "output_type": "stream",
     "text": [
      "0.850119904077 0.796163069544 0.809352517986\n"
     ]
    }
   ],
   "source": [
    "rf_score = rf.fit(X_train, y_train).score(X_valid, y_valid)\n",
    "nb_score = nb.fit(X_train, y_train).score(X_valid, y_valid)\n",
    "lr_score = lr.fit(X_train, y_train).score(X_valid, y_valid)\n",
    "\n",
    "print(rf_score, nb_score, lr_score)"
   ]
  },
  {
   "cell_type": "markdown",
   "metadata": {
    "collapsed": true
   },
   "source": [
    "Random Forests appear to work best (although we should have chosen hyperparameters using Random or Grid search).  Final value"
   ]
  },
  {
   "cell_type": "markdown",
   "metadata": {},
   "source": [
    "### Assessing the Final performance"
   ]
  },
  {
   "cell_type": "code",
   "execution_count": 31,
   "metadata": {
    "collapsed": false
   },
   "outputs": [
    {
     "data": {
      "text/plain": [
       "0.82051282051282048"
      ]
     },
     "execution_count": 31,
     "metadata": {},
     "output_type": "execute_result"
    }
   ],
   "source": [
    "rf.fit(X_train.append(X_valid), y_train.append(y_valid)).score(X_test, y_test)"
   ]
  }
 ],
 "metadata": {
  "celltoolbar": "Raw Cell Format",
  "kernelspec": {
   "display_name": "Python 3",
   "language": "python",
   "name": "python3"
  },
  "language_info": {
   "codemirror_mode": {
    "name": "ipython",
    "version": 3.0
   },
   "file_extension": ".py",
   "mimetype": "text/x-python",
   "name": "python",
   "nbconvert_exporter": "python",
   "pygments_lexer": "ipython3",
   "version": "3.5.1"
  },
  "widgets": {
   "state": {},
   "version": "1.1.2"
  }
 },
 "nbformat": 4,
 "nbformat_minor": 0
}