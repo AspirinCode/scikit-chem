{
 "cells": [
  {
   "cell_type": "raw",
   "metadata": {
    "raw_mimetype": "text/restructuredtext"
   },
   "source": [
    ".. _quickstart:"
   ]
  },
  {
   "cell_type": "code",
   "execution_count": 2,
   "metadata": {
    "collapsed": false,
    "nbsphinx": "hidden"
   },
   "outputs": [
    {
     "name": "stdout",
     "output_type": "stream",
     "text": [
      "/Users/rich/datasets\n"
     ]
    }
   ],
   "source": [
    "cd ~/datasets"
   ]
  },
  {
   "cell_type": "code",
   "execution_count": 3,
   "metadata": {
    "collapsed": false,
    "nbsphinx": "hidden"
   },
   "outputs": [],
   "source": [
    "import pandas as pd\n",
    "%matplotlib inline\n",
    "import matplotlib.pyplot as plt\n",
    "plt.style.use('ggplot')\n",
    "plt.rcParams['savefig.dpi'] = 100\n",
    "\n",
    "pd.options.display.max_columns = 10\n",
    "pd.options.display.max_rows = 10"
   ]
  },
  {
   "cell_type": "markdown",
   "metadata": {},
   "source": [
    "# Quickstart"
   ]
  },
  {
   "cell_type": "markdown",
   "metadata": {},
   "source": [
    "We will be working on a mutagenicity dataset, released by [Kazius et al.](http://pubs.acs.org/doi/abs/10.1021/jm040835a).  4337 compounds, provided as the file `mols.sdf`, were subjected to the [AMES test](https://en.wikipedia.org/wiki/Ames_test).  The results are given in `labels.csv`.  We will clean the molecules, perform a brief chemical space  analysis before finally assessing potential predictive models built on the data."
   ]
  },
  {
   "cell_type": "markdown",
   "metadata": {},
   "source": [
    "## Imports\n",
    "\n",
    "**scikit-chem** imports all subpackages with the main package, so all we need to do is import the main package, `skchem`.  We will also need `pandas`."
   ]
  },
  {
   "cell_type": "code",
   "execution_count": 4,
   "metadata": {
    "collapsed": true
   },
   "outputs": [],
   "source": [
    "import skchem\n",
    "import pandas as pd"
   ]
  },
  {
   "cell_type": "markdown",
   "metadata": {},
   "source": [
    "## Loading the data"
   ]
  },
  {
   "cell_type": "markdown",
   "metadata": {},
   "source": [
    "We can use `skchem.read_sdf` to import the sdf file:"
   ]
  },
  {
   "cell_type": "code",
   "execution_count": 5,
   "metadata": {
    "collapsed": false,
    "scrolled": true
   },
   "outputs": [
    {
     "data": {
      "text/plain": [
       "batch\n",
       "1728-95-6     <Mol: COc1ccc(-c2nc(-c3ccccc3)c(-c3ccccc3)[nH]...\n",
       "91-08-7                            <Mol: Cc1c(N=C=O)cccc1N=C=O>\n",
       "89786-04-9      <Mol: CC1(Cn2ccnn2)C(C(=O)O)N2C(=O)CC2S1(=O)=O>\n",
       "2439-35-2                               <Mol: C=CC(=O)OCCN(C)C>\n",
       "95-94-3                             <Mol: Clc1cc(Cl)c(Cl)cc1Cl>\n",
       "                                    ...                        \n",
       "89930-60-9    <Mol: CCCn1cc2c3c(cccc31)C1C=C(C)CN(C)C1C2.O=C...\n",
       "9002-92-0             <Mol: CCCCCCCCCCCCOCCOCCOCCOCCOCCOCCOCCO>\n",
       "90597-22-1               <Mol: Nc1ccn(C2C=C(CO)C(O)C2O)c(=O)n1>\n",
       "924-43-6                                      <Mol: CCC(C)ON=O>\n",
       "97534-21-9              <Mol: O=C1NC(=S)NC(=O)C1C(=O)Nc1ccccc1>\n",
       "Name: structure, dtype: object"
      ]
     },
     "execution_count": 5,
     "metadata": {},
     "output_type": "execute_result"
    }
   ],
   "source": [
    "ms_raw = skchem.read_sdf('mols.sdf'); ms_raw"
   ]
  },
  {
   "cell_type": "markdown",
   "metadata": {},
   "source": [
    "And pandas to import the labels."
   ]
  },
  {
   "cell_type": "code",
   "execution_count": 32,
   "metadata": {
    "collapsed": false,
    "scrolled": true
   },
   "outputs": [
    {
     "data": {
      "text/plain": [
       "name\n",
       "1728-95-6        mutagen\n",
       "91-08-7          mutagen\n",
       "89786-04-9    nonmutagen\n",
       "2439-35-2     nonmutagen\n",
       "95-94-3       nonmutagen\n",
       "                 ...    \n",
       "89930-60-9       mutagen\n",
       "9002-92-0     nonmutagen\n",
       "90597-22-1    nonmutagen\n",
       "924-43-6         mutagen\n",
       "97534-21-9    nonmutagen\n",
       "Name: Ames test categorisation, dtype: object"
      ]
     },
     "execution_count": 32,
     "metadata": {},
     "output_type": "execute_result"
    }
   ],
   "source": [
    "y_raw = pd.read_csv('labels.csv').set_index('name').squeeze(); y_raw"
   ]
  },
  {
   "cell_type": "markdown",
   "metadata": {},
   "source": [
    "And binarize them:"
   ]
  },
  {
   "cell_type": "code",
   "execution_count": 36,
   "metadata": {
    "collapsed": false
   },
   "outputs": [
    {
     "name": "stderr",
     "output_type": "stream",
     "text": [
      "/Users/rich/anaconda/lib/python3.5/site-packages/pandas/core/ops.py:716: FutureWarning: elementwise comparison failed; returning scalar instead, but in the future will perform elementwise comparison\n",
      "  result = getattr(x, name)(y)\n"
     ]
    },
    {
     "ename": "TypeError",
     "evalue": "invalid type comparison",
     "output_type": "error",
     "traceback": [
      "\u001b[0;31m---------------------------------------------------------------------------\u001b[0m",
      "\u001b[0;31mTypeError\u001b[0m                                 Traceback (most recent call last)",
      "\u001b[0;32m<ipython-input-36-eab9f1854f42>\u001b[0m in \u001b[0;36m<module>\u001b[0;34m()\u001b[0m\n\u001b[0;32m----> 1\u001b[0;31m \u001b[0my_bin\u001b[0m \u001b[0;34m=\u001b[0m \u001b[0my_raw\u001b[0m \u001b[0;34m==\u001b[0m \u001b[0;34m'mutagen'\u001b[0m\u001b[0;34m\u001b[0m\u001b[0m\n\u001b[0m",
      "\u001b[0;32m/Users/rich/anaconda/lib/python3.5/site-packages/pandas/core/ops.py\u001b[0m in \u001b[0;36mwrapper\u001b[0;34m(self, other, axis)\u001b[0m\n\u001b[1;32m    761\u001b[0m                 \u001b[0mother\u001b[0m \u001b[0;34m=\u001b[0m \u001b[0mnp\u001b[0m\u001b[0;34m.\u001b[0m\u001b[0masarray\u001b[0m\u001b[0;34m(\u001b[0m\u001b[0mother\u001b[0m\u001b[0;34m)\u001b[0m\u001b[0;34m\u001b[0m\u001b[0m\n\u001b[1;32m    762\u001b[0m \u001b[0;34m\u001b[0m\u001b[0m\n\u001b[0;32m--> 763\u001b[0;31m             \u001b[0mres\u001b[0m \u001b[0;34m=\u001b[0m \u001b[0mna_op\u001b[0m\u001b[0;34m(\u001b[0m\u001b[0mvalues\u001b[0m\u001b[0;34m,\u001b[0m \u001b[0mother\u001b[0m\u001b[0;34m)\u001b[0m\u001b[0;34m\u001b[0m\u001b[0m\n\u001b[0m\u001b[1;32m    764\u001b[0m             \u001b[0;32mif\u001b[0m \u001b[0misscalar\u001b[0m\u001b[0;34m(\u001b[0m\u001b[0mres\u001b[0m\u001b[0;34m)\u001b[0m\u001b[0;34m:\u001b[0m\u001b[0;34m\u001b[0m\u001b[0m\n\u001b[1;32m    765\u001b[0m                 raise TypeError('Could not compare %s type with Series' %\n",
      "\u001b[0;32m/Users/rich/anaconda/lib/python3.5/site-packages/pandas/core/ops.py\u001b[0m in \u001b[0;36mna_op\u001b[0;34m(x, y)\u001b[0m\n\u001b[1;32m    716\u001b[0m                 \u001b[0mresult\u001b[0m \u001b[0;34m=\u001b[0m \u001b[0mgetattr\u001b[0m\u001b[0;34m(\u001b[0m\u001b[0mx\u001b[0m\u001b[0;34m,\u001b[0m \u001b[0mname\u001b[0m\u001b[0;34m)\u001b[0m\u001b[0;34m(\u001b[0m\u001b[0my\u001b[0m\u001b[0;34m)\u001b[0m\u001b[0;34m\u001b[0m\u001b[0m\n\u001b[1;32m    717\u001b[0m                 \u001b[0;32mif\u001b[0m \u001b[0mresult\u001b[0m \u001b[0;32mis\u001b[0m \u001b[0mNotImplemented\u001b[0m\u001b[0;34m:\u001b[0m\u001b[0;34m\u001b[0m\u001b[0m\n\u001b[0;32m--> 718\u001b[0;31m                     \u001b[0;32mraise\u001b[0m \u001b[0mTypeError\u001b[0m\u001b[0;34m(\u001b[0m\u001b[0;34m\"invalid type comparison\"\u001b[0m\u001b[0;34m)\u001b[0m\u001b[0;34m\u001b[0m\u001b[0m\n\u001b[0m\u001b[1;32m    719\u001b[0m             \u001b[0;32mexcept\u001b[0m \u001b[0mAttributeError\u001b[0m\u001b[0;34m:\u001b[0m\u001b[0;34m\u001b[0m\u001b[0m\n\u001b[1;32m    720\u001b[0m                 \u001b[0mresult\u001b[0m \u001b[0;34m=\u001b[0m \u001b[0mop\u001b[0m\u001b[0;34m(\u001b[0m\u001b[0mx\u001b[0m\u001b[0;34m,\u001b[0m \u001b[0my\u001b[0m\u001b[0;34m)\u001b[0m\u001b[0;34m\u001b[0m\u001b[0m\n",
      "\u001b[0;31mTypeError\u001b[0m: invalid type comparison"
     ]
    }
   ],
   "source": [
    "y_bin = y_raw == 'mutagen'"
   ]
  },
  {
   "cell_type": "markdown",
   "metadata": {},
   "source": [
    "Quickly check the class balance:"
   ]
  },
  {
   "cell_type": "code",
   "execution_count": null,
   "metadata": {
    "collapsed": false
   },
   "outputs": [],
   "source": [
    "y_raw.value_counts().plot.bar()"
   ]
  },
  {
   "cell_type": "markdown",
   "metadata": {},
   "source": [
    "The classes are (mercifully) quite balanced."
   ]
  },
  {
   "cell_type": "markdown",
   "metadata": {},
   "source": [
    "## Cleaning\n",
    "\n",
    "The data is unlikely to be canonicalized, and potentially contain broken or difficult molecules, so we will now clean it."
   ]
  },
  {
   "cell_type": "markdown",
   "metadata": {},
   "source": [
    "### Standardization\n",
    "\n",
    "The first step is to apply a `Transformer` to canonicalize the representations.  Specifically, we will use the ChemAxon Standardizer wrapper.  Some compounds are likely to fail this procedure, however they are likely to still be valid structures, so we will use the `keep_failed` configuration option on the object to keep these, rather than returning a None, or raising an error."
   ]
  },
  {
   "cell_type": "raw",
   "metadata": {
    "raw_mimetype": "text/restructuredtext"
   },
   "source": [
    ".. tip::\n",
    "\n",
    "    ``Transformer`` s implement the ``transform`` method, which converts ``Mol`` s into *something else*.  This can either be another ``Mol``, such as in this case, or into a vector or even a number.  The result will be packaged as a ``pandas`` data structure of appropriate dimensionality."
   ]
  },
  {
   "cell_type": "code",
   "execution_count": 8,
   "metadata": {
    "collapsed": true
   },
   "outputs": [],
   "source": [
    "std = skchem.standardizers.ChemAxonStandardizer(keep_failed=True)"
   ]
  },
  {
   "cell_type": "code",
   "execution_count": 9,
   "metadata": {
    "collapsed": false
   },
   "outputs": [
    {
     "name": "stderr",
     "output_type": "stream",
     "text": [
      "ChemAxonStandardizer: 100% (4337 of 4337) |####################################| Elapsed Time: 0:00:32 Time: 0:00:32\n"
     ]
    },
    {
     "data": {
      "text/plain": [
       "batch\n",
       "1728-95-6     <Mol: COc1ccc(-c2nc(-c3ccccc3)c(-c3ccccc3)[nH]...\n",
       "91-08-7                            <Mol: Cc1c(N=C=O)cccc1N=C=O>\n",
       "89786-04-9      <Mol: CC1(Cn2ccnn2)C(C(=O)O)N2C(=O)CC2S1(=O)=O>\n",
       "2439-35-2                               <Mol: C=CC(=O)OCCN(C)C>\n",
       "95-94-3                             <Mol: Clc1cc(Cl)c(Cl)cc1Cl>\n",
       "                                    ...                        \n",
       "89930-60-9          <Mol: CCCn1cc2c3c(cccc31)C1C=C(C)CN(C)C1C2>\n",
       "9002-92-0             <Mol: CCCCCCCCCCCCOCCOCCOCCOCCOCCOCCOCCO>\n",
       "90597-22-1               <Mol: Nc1ccn(C2C=C(CO)C(O)C2O)c(=O)n1>\n",
       "924-43-6                                      <Mol: CCC(C)ON=O>\n",
       "97534-21-9             <Mol: O=C(Nc1ccccc1)c1c(O)nc(=S)[nH]c1O>\n",
       "Name: structure, dtype: object"
      ]
     },
     "execution_count": 9,
     "metadata": {},
     "output_type": "execute_result"
    }
   ],
   "source": [
    "ms = std.transform(ms_raw); ms"
   ]
  },
  {
   "cell_type": "raw",
   "metadata": {
    "raw_mimetype": "text/restructuredtext"
   },
   "source": [
    ".. tip::\n",
    "\n",
    "    This pattern is the typical way to handle all operations while using **scikit-chem**.  The available configuration options for all classes may be found in the class's docstring, available in the :ref:`documentation <api>` or using the builtin ``help`` function."
   ]
  },
  {
   "cell_type": "markdown",
   "metadata": {},
   "source": [
    "### Filter undesirable molecules\n",
    "\n",
    "Next, we will remove molecules that are likely to not work well with the circular descriptors that we will use.  These are usually *large* or *inorganic* molecules.\n",
    "\n",
    "To do this, we will use some `Filters`, which implement the `filter` method."
   ]
  },
  {
   "cell_type": "raw",
   "metadata": {
    "raw_mimetype": "text/restructuredtext"
   },
   "source": [
    ".. tip::\n",
    "\n",
    "    ``Filter`` s drop compounds that fail a predicicate. The results of the predicate can be found by using ``transform`` - that's right, each ``Filter`` is also a ``Transformer`` !  Labels with similar index can be passed in as a second argument, and will also be filtered and returned as a second return value."
   ]
  },
  {
   "cell_type": "code",
   "execution_count": 10,
   "metadata": {
    "collapsed": false
   },
   "outputs": [
    {
     "name": "stderr",
     "output_type": "stream",
     "text": [
      "OrganicFilter: 100% (4337 of 4337) |###########################################| Elapsed Time: 0:00:05 Time: 0:00:05\n"
     ]
    }
   ],
   "source": [
    "of = skchem.filters.OrganicFilter()\n",
    "\n",
    "ms, y = of.filter(ms, y)"
   ]
  },
  {
   "cell_type": "code",
   "execution_count": 11,
   "metadata": {
    "collapsed": false
   },
   "outputs": [
    {
     "name": "stderr",
     "output_type": "stream",
     "text": [
      "\r",
      "MassFilter:   0% (  38 of 4337) |                                              | Elapsed Time: 0:00:00 ETA:  0:00:00\r",
      "MassFilter:   1% (  75 of 4337) |                                              | Elapsed Time: 0:00:00 ETA:  0:00:00\r",
      "MassFilter:   2% ( 113 of 4337) |#                                             | Elapsed Time: 0:00:00 ETA:  0:00:00\r",
      "MassFilter:   3% ( 150 of 4337) |#                                             | Elapsed Time: 0:00:00 ETA:  0:00:00\r",
      "MassFilter:   4% ( 187 of 4337) |#                                             | Elapsed Time: 0:00:00 ETA:  0:00:00\r",
      "MassFilter:   5% ( 225 of 4337) |##                                            | Elapsed Time: 0:00:00 ETA:  0:00:00\r",
      "MassFilter:   6% ( 262 of 4337) |##                                            | Elapsed Time: 0:00:00 ETA:  0:00:00\r",
      "MassFilter:   6% ( 300 of 4337) |###                                           | Elapsed Time: 0:00:00 ETA:  0:00:00\r",
      "MassFilter:   7% ( 337 of 4337) |###                                           | Elapsed Time: 0:00:00 ETA:  0:00:00\r",
      "MassFilter:   8% ( 374 of 4337) |###                                           | Elapsed Time: 0:00:00 ETA:  0:00:00\r",
      "MassFilter:   9% ( 412 of 4337) |####                                          | Elapsed Time: 0:00:00 ETA:  0:00:00\r",
      "MassFilter:  10% ( 449 of 4337) |####                                          | Elapsed Time: 0:00:00 ETA:  0:00:00\r",
      "MassFilter:  11% ( 487 of 4337) |#####                                         | Elapsed Time: 0:00:00 ETA:  0:00:00\r",
      "MassFilter:  12% ( 524 of 4337) |#####                                         | Elapsed Time: 0:00:00 ETA:  0:00:00\r",
      "MassFilter:  12% ( 561 of 4337) |#####                                         | Elapsed Time: 0:00:00 ETA:  0:00:00\r",
      "MassFilter:  13% ( 599 of 4337) |######                                        | Elapsed Time: 0:00:00 ETA:  0:00:00\r",
      "MassFilter:  14% ( 636 of 4337) |######                                        | Elapsed Time: 0:00:00 ETA:  0:00:00\r",
      "MassFilter:  15% ( 673 of 4337) |#######                                       | Elapsed Time: 0:00:00 ETA:  0:00:00\r",
      "MassFilter:  16% ( 711 of 4337) |#######                                       | Elapsed Time: 0:00:00 ETA:  0:00:00\r",
      "MassFilter:  17% ( 748 of 4337) |#######                                       | Elapsed Time: 0:00:00 ETA:  0:00:00\r",
      "MassFilter:  18% ( 786 of 4337) |########                                      | Elapsed Time: 0:00:00 ETA:  0:00:00\r",
      "MassFilter:  18% ( 823 of 4337) |########                                      | Elapsed Time: 0:00:00 ETA:  0:00:00\r",
      "MassFilter:  19% ( 860 of 4337) |#########                                     | Elapsed Time: 0:00:00 ETA:  0:00:00\r",
      "MassFilter:  20% ( 898 of 4337) |#########                                     | Elapsed Time: 0:00:00 ETA:  0:00:00\r",
      "MassFilter:  21% ( 935 of 4337) |#########                                     | Elapsed Time: 0:00:00 ETA:  0:00:00\r",
      "MassFilter:  22% ( 973 of 4337) |##########                                    | Elapsed Time: 0:00:00 ETA:  0:00:00\r",
      "MassFilter:  23% (1010 of 4337) |##########                                    | Elapsed Time: 0:00:00 ETA:  0:00:00\r",
      "MassFilter:  24% (1047 of 4337) |###########                                   | Elapsed Time: 0:00:00 ETA:  0:00:00\r",
      "MassFilter:  25% (1085 of 4337) |###########                                   | Elapsed Time: 0:00:00 ETA:  0:00:00\r",
      "MassFilter:  25% (1122 of 4337) |###########                                   | Elapsed Time: 0:00:00 ETA:  0:00:00\r",
      "MassFilter:  26% (1160 of 4337) |############                                  | Elapsed Time: 0:00:00 ETA:  0:00:00\r",
      "MassFilter:  27% (1197 of 4337) |############                                  | Elapsed Time: 0:00:00 ETA:  0:00:00\r",
      "MassFilter:  28% (1234 of 4337) |#############                                 | Elapsed Time: 0:00:00 ETA:  0:00:00\r",
      "MassFilter:  29% (1272 of 4337) |#############                                 | Elapsed Time: 0:00:00 ETA:  0:00:00\r",
      "MassFilter:  30% (1309 of 4337) |#############                                 | Elapsed Time: 0:00:00 ETA:  0:00:00\r",
      "MassFilter:  31% (1346 of 4337) |##############                                | Elapsed Time: 0:00:00 ETA:  0:00:00\r",
      "MassFilter:  31% (1384 of 4337) |##############                                | Elapsed Time: 0:00:00 ETA:  0:00:00\r",
      "MassFilter:  32% (1421 of 4337) |###############                               | Elapsed Time: 0:00:00 ETA:  0:00:00\r",
      "MassFilter:  33% (1459 of 4337) |###############                               | Elapsed Time: 0:00:00 ETA:  0:00:00\r",
      "MassFilter:  34% (1496 of 4337) |###############                               | Elapsed Time: 0:00:00 ETA:  0:00:00\r",
      "MassFilter:  35% (1533 of 4337) |################                              | Elapsed Time: 0:00:00 ETA:  0:00:00\r",
      "MassFilter:  36% (1571 of 4337) |################                              | Elapsed Time: 0:00:00 ETA:  0:00:00\r",
      "MassFilter:  37% (1608 of 4337) |#################                             | Elapsed Time: 0:00:00 ETA:  0:00:00\r",
      "MassFilter:  37% (1646 of 4337) |#################                             | Elapsed Time: 0:00:00 ETA:  0:00:00\r",
      "MassFilter:  38% (1683 of 4337) |#################                             | Elapsed Time: 0:00:00 ETA:  0:00:00\r",
      "MassFilter:  39% (1720 of 4337) |##################                            | Elapsed Time: 0:00:00 ETA:  0:00:00\r",
      "MassFilter:  40% (1758 of 4337) |##################                            | Elapsed Time: 0:00:00 ETA:  0:00:00\r",
      "MassFilter:  41% (1795 of 4337) |###################                           | Elapsed Time: 0:00:00 ETA:  0:00:00\r",
      "MassFilter:  42% (1833 of 4337) |###################                           | Elapsed Time: 0:00:00 ETA:  0:00:00\r",
      "MassFilter:  43% (1870 of 4337) |###################                           | Elapsed Time: 0:00:00 ETA:  0:00:00\r",
      "MassFilter:  43% (1907 of 4337) |####################                          | Elapsed Time: 0:00:00 ETA:  0:00:00\r",
      "MassFilter:  44% (1945 of 4337) |####################                          | Elapsed Time: 0:00:00 ETA:  0:00:00\r",
      "MassFilter:  45% (1982 of 4337) |#####################                         | Elapsed Time: 0:00:00 ETA:  0:00:00\r",
      "MassFilter:  46% (2019 of 4337) |#####################                         | Elapsed Time: 0:00:00 ETA:  0:00:00\r",
      "MassFilter:  47% (2057 of 4337) |#####################                         | Elapsed Time: 0:00:00 ETA:  0:00:00\r",
      "MassFilter:  48% (2094 of 4337) |######################                        | Elapsed Time: 0:00:00 ETA:  0:00:00\r",
      "MassFilter:  49% (2132 of 4337) |######################                        | Elapsed Time: 0:00:00 ETA:  0:00:00\r",
      "MassFilter:  50% (2169 of 4337) |#######################                       | Elapsed Time: 0:00:00 ETA:  0:00:00\r",
      "MassFilter:  50% (2206 of 4337) |#######################                       | Elapsed Time: 0:00:00 ETA:  0:00:00\r",
      "MassFilter:  51% (2244 of 4337) |#######################                       | Elapsed Time: 0:00:00 ETA:  0:00:00\r",
      "MassFilter:  52% (2281 of 4337) |########################                      | Elapsed Time: 0:00:00 ETA:  0:00:00\r",
      "MassFilter:  53% (2319 of 4337) |########################                      | Elapsed Time: 0:00:00 ETA:  0:00:00\r",
      "MassFilter:  54% (2356 of 4337) |########################                      | Elapsed Time: 0:00:00 ETA:  0:00:00\r",
      "MassFilter:  55% (2393 of 4337) |#########################                     | Elapsed Time: 0:00:00 ETA:  0:00:00\r",
      "MassFilter:  56% (2431 of 4337) |#########################                     | Elapsed Time: 0:00:00 ETA:  0:00:00\r",
      "MassFilter:  56% (2468 of 4337) |##########################                    | Elapsed Time: 0:00:00 ETA:  0:00:00\r",
      "MassFilter:  57% (2505 of 4337) |##########################                    | Elapsed Time: 0:00:00 ETA:  0:00:00\r",
      "MassFilter:  58% (2543 of 4337) |##########################                    | Elapsed Time: 0:00:00 ETA:  0:00:00\r",
      "MassFilter:  59% (2580 of 4337) |###########################                   | Elapsed Time: 0:00:00 ETA:  0:00:00\r",
      "MassFilter:  60% (2618 of 4337) |###########################                   | Elapsed Time: 0:00:00 ETA:  0:00:00\r",
      "MassFilter:  61% (2655 of 4337) |############################                  | Elapsed Time: 0:00:00 ETA:  0:00:00\r",
      "MassFilter:  62% (2692 of 4337) |############################                  | Elapsed Time: 0:00:00 ETA:  0:00:00\r",
      "MassFilter:  62% (2730 of 4337) |############################                  | Elapsed Time: 0:00:00 ETA:  0:00:00\r",
      "MassFilter:  63% (2767 of 4337) |#############################                 | Elapsed Time: 0:00:00 ETA:  0:00:00\r",
      "MassFilter:  64% (2805 of 4337) |#############################                 | Elapsed Time: 0:00:00 ETA:  0:00:00\r",
      "MassFilter:  65% (2842 of 4337) |##############################                | Elapsed Time: 0:00:00 ETA:  0:00:00\r",
      "MassFilter:  66% (2879 of 4337) |##############################                | Elapsed Time: 0:00:00 ETA:  0:00:00\r",
      "MassFilter:  67% (2917 of 4337) |##############################                | Elapsed Time: 0:00:00 ETA:  0:00:00\r",
      "MassFilter:  68% (2954 of 4337) |###############################               | Elapsed Time: 0:00:00 ETA:  0:00:00\r",
      "MassFilter:  68% (2992 of 4337) |###############################               | Elapsed Time: 0:00:00 ETA:  0:00:00\r",
      "MassFilter:  69% (3029 of 4337) |################################              | Elapsed Time: 0:00:00 ETA:  0:00:00\r",
      "MassFilter:  70% (3066 of 4337) |################################              | Elapsed Time: 0:00:00 ETA:  0:00:00\r",
      "MassFilter:  71% (3104 of 4337) |################################              | Elapsed Time: 0:00:00 ETA:  0:00:00\r",
      "MassFilter:  72% (3141 of 4337) |#################################             | Elapsed Time: 0:00:00 ETA:  0:00:00\r",
      "MassFilter:  73% (3178 of 4337) |#################################             | Elapsed Time: 0:00:00 ETA:  0:00:00\r",
      "MassFilter:  74% (3216 of 4337) |##################################            | Elapsed Time: 0:00:00 ETA:  0:00:00\r",
      "MassFilter:  75% (3253 of 4337) |##################################            | Elapsed Time: 0:00:00 ETA:  0:00:00\r",
      "MassFilter:  75% (3291 of 4337) |##################################            | Elapsed Time: 0:00:00 ETA:  0:00:00\r",
      "MassFilter:  76% (3328 of 4337) |###################################           | Elapsed Time: 0:00:00 ETA:  0:00:00\r",
      "MassFilter:  77% (3365 of 4337) |###################################           | Elapsed Time: 0:00:00 ETA:  0:00:00\r",
      "MassFilter:  78% (3403 of 4337) |####################################          | Elapsed Time: 0:00:00 ETA:  0:00:00\r",
      "MassFilter:  79% (3440 of 4337) |####################################          | Elapsed Time: 0:00:00 ETA:  0:00:00\r",
      "MassFilter:  80% (3478 of 4337) |####################################          | Elapsed Time: 0:00:00 ETA:  0:00:00\r",
      "MassFilter:  81% (3515 of 4337) |#####################################         | Elapsed Time: 0:00:00 ETA:  0:00:00\r",
      "MassFilter:  81% (3552 of 4337) |#####################################         | Elapsed Time: 0:00:00 ETA:  0:00:00\r",
      "MassFilter:  82% (3590 of 4337) |######################################        | Elapsed Time: 0:00:00 ETA:  0:00:00\r",
      "MassFilter:  83% (3627 of 4337) |######################################        | Elapsed Time: 0:00:00 ETA:  0:00:00\r",
      "MassFilter:  84% (3665 of 4337) |######################################        | Elapsed Time: 0:00:00 ETA:  0:00:00\r",
      "MassFilter:  85% (3702 of 4337) |#######################################       | Elapsed Time: 0:00:00 ETA:  0:00:00\r",
      "MassFilter:  86% (3739 of 4337) |#######################################       | Elapsed Time: 0:00:00 ETA:  0:00:00\r",
      "MassFilter:  87% (3777 of 4337) |########################################      | Elapsed Time: 0:00:00 ETA:  0:00:00\r",
      "MassFilter:  87% (3814 of 4337) |########################################      | Elapsed Time: 0:00:00 ETA:  0:00:00\r",
      "MassFilter:  88% (3851 of 4337) |########################################      | Elapsed Time: 0:00:00 ETA:  0:00:00\r",
      "MassFilter:  89% (3889 of 4337) |#########################################     | Elapsed Time: 0:00:00 ETA:  0:00:00\r",
      "MassFilter:  90% (3926 of 4337) |#########################################     | Elapsed Time: 0:00:00 ETA:  0:00:00\r",
      "MassFilter:  91% (3964 of 4337) |##########################################    | Elapsed Time: 0:00:00 ETA:  0:00:00\r",
      "MassFilter:  92% (4001 of 4337) |##########################################    | Elapsed Time: 0:00:00 ETA:  0:00:00\r",
      "MassFilter:  93% (4038 of 4337) |##########################################    | Elapsed Time: 0:00:00 ETA:  0:00:00\r",
      "MassFilter:  93% (4076 of 4337) |###########################################   | Elapsed Time: 0:00:00 ETA:  0:00:00\r",
      "MassFilter:  94% (4113 of 4337) |###########################################   | Elapsed Time: 0:00:00 ETA:  0:00:00\r",
      "MassFilter:  95% (4151 of 4337) |############################################  | Elapsed Time: 0:00:00 ETA:  0:00:00\r",
      "MassFilter:  96% (4188 of 4337) |############################################  | Elapsed Time: 0:00:00 ETA:  0:00:00\r",
      "MassFilter:  97% (4225 of 4337) |############################################  | Elapsed Time: 0:00:00 ETA:  0:00:00\r",
      "MassFilter:  98% (4263 of 4337) |############################################# | Elapsed Time: 0:00:00 ETA:  0:00:00\r",
      "MassFilter:  99% (4300 of 4337) |############################################# | Elapsed Time: 0:00:00 ETA:  0:00:00\r",
      "MassFilter: 100% (4337 of 4337) |##############################################| Elapsed Time: 0:00:00 Time: 0:00:00\n"
     ]
    }
   ],
   "source": [
    "mf = skchem.filters.MassFilter(above=100, below=900)\n",
    "\n",
    "ms, y = mf.filter(ms, y)"
   ]
  },
  {
   "cell_type": "code",
   "execution_count": 12,
   "metadata": {
    "collapsed": false
   },
   "outputs": [
    {
     "name": "stderr",
     "output_type": "stream",
     "text": [
      "AtomNumberFilter: 100% (4068 of 4068) |########################################| Elapsed Time: 0:00:00 Time: 0:00:00\n"
     ]
    }
   ],
   "source": [
    "nf = skchem.filters.AtomNumberFilter(above=5, below=100, include_hydrogens=True)\n",
    "\n",
    "ms, y = nf.filter(ms, y)"
   ]
  },
  {
   "cell_type": "markdown",
   "metadata": {},
   "source": [
    "### Optimize Geometry\n",
    "\n",
    "We would like to calculate some features that require three dimensional coordinates, so we will next calculate three dimensional conformers using the Universal Force Field.  Additionally, some compounds may be unfeasible - these should be dropped from the dataset. In order to do this, we will use the `transform_filter` method:"
   ]
  },
  {
   "cell_type": "code",
   "execution_count": 13,
   "metadata": {
    "collapsed": false
   },
   "outputs": [
    {
     "name": "stderr",
     "output_type": "stream",
     "text": [
      "/Users/rich/projects/scikit-chem/skchem/forcefields/base.py:54: UserWarning: Failed to Embed Molecule 109883-99-0\n",
      "  warnings.warn(msg)\n",
      "/Users/rich/projects/scikit-chem/skchem/forcefields/base.py:54: UserWarning: Failed to Embed Molecule 135768-83-1\n",
      "  warnings.warn(msg)\n",
      "/Users/rich/projects/scikit-chem/skchem/forcefields/base.py:54: UserWarning: Failed to Embed Molecule 13366-73-9\n",
      "  warnings.warn(msg)\n",
      "UFF: 100% (4046 of 4046) |#####################################################| Elapsed Time: 0:01:47 Time: 0:01:47\n"
     ]
    }
   ],
   "source": [
    "uff = skchem.forcefields.UFF()\n",
    "\n",
    "ms, y = uff.transform_filter(ms, y)"
   ]
  },
  {
   "cell_type": "code",
   "execution_count": 14,
   "metadata": {
    "collapsed": false
   },
   "outputs": [
    {
     "data": {
      "text/plain": [
       "4043"
      ]
     },
     "execution_count": 14,
     "metadata": {},
     "output_type": "execute_result"
    }
   ],
   "source": [
    "len(ms)"
   ]
  },
  {
   "cell_type": "markdown",
   "metadata": {},
   "source": [
    "As we can see, we get a warning that 3 molecules failed to embed, have been dropped.  If we didn't care about the warnings, we could have set the `warn_on_fail` property to `False` (or set it using a keyword argument at initialization).  Conversely, if we *really* cared about failures, we could have set `error_on_fail` to True, which would raise an Error if any `Mol`s failed to embed."
   ]
  },
  {
   "cell_type": "raw",
   "metadata": {
    "raw_mimetype": "text/restructuredtext"
   },
   "source": [
    ".. tip::\n",
    "\n",
    "    ``TransformFilter`` s implement the ``transform_filter`` method.  This is a combination of ``transform`` and ``filter`` , which converts ``Mol`` s into *something else* **and** drops instances that fail the predicate.  The ``ChemAxonStandardizer`` object is also a ``TransformFilter``, as it can drop ``Mol`` s that fail to standardize."
   ]
  },
  {
   "cell_type": "markdown",
   "metadata": {},
   "source": [
    "### Visualize Chemical Space\n",
    "\n",
    "**scikit-chem** adds a custom `mol` accessor to `pandas.Series`, which provides a shorthand for calling methods on all `Mol`s in the collection.  This is analogous to the `str` accessor:"
   ]
  },
  {
   "cell_type": "code",
   "execution_count": 15,
   "metadata": {
    "collapsed": false
   },
   "outputs": [
    {
     "data": {
      "text/html": [
       "<div>\n",
       "<table border=\"1\" class=\"dataframe\">\n",
       "  <thead>\n",
       "    <tr style=\"text-align: right;\">\n",
       "      <th></th>\n",
       "      <th>mutagen</th>\n",
       "      <th>nonmutagen</th>\n",
       "    </tr>\n",
       "    <tr>\n",
       "      <th>name</th>\n",
       "      <th></th>\n",
       "      <th></th>\n",
       "    </tr>\n",
       "  </thead>\n",
       "  <tbody>\n",
       "    <tr>\n",
       "      <th>1728-95-6</th>\n",
       "      <td>1</td>\n",
       "      <td>0</td>\n",
       "    </tr>\n",
       "    <tr>\n",
       "      <th>91-08-7</th>\n",
       "      <td>1</td>\n",
       "      <td>0</td>\n",
       "    </tr>\n",
       "    <tr>\n",
       "      <th>89786-04-9</th>\n",
       "      <td>0</td>\n",
       "      <td>1</td>\n",
       "    </tr>\n",
       "    <tr>\n",
       "      <th>2439-35-2</th>\n",
       "      <td>0</td>\n",
       "      <td>1</td>\n",
       "    </tr>\n",
       "    <tr>\n",
       "      <th>95-94-3</th>\n",
       "      <td>0</td>\n",
       "      <td>1</td>\n",
       "    </tr>\n",
       "    <tr>\n",
       "      <th>...</th>\n",
       "      <td>...</td>\n",
       "      <td>...</td>\n",
       "    </tr>\n",
       "    <tr>\n",
       "      <th>89930-60-9</th>\n",
       "      <td>1</td>\n",
       "      <td>0</td>\n",
       "    </tr>\n",
       "    <tr>\n",
       "      <th>9002-92-0</th>\n",
       "      <td>0</td>\n",
       "      <td>1</td>\n",
       "    </tr>\n",
       "    <tr>\n",
       "      <th>90597-22-1</th>\n",
       "      <td>0</td>\n",
       "      <td>1</td>\n",
       "    </tr>\n",
       "    <tr>\n",
       "      <th>924-43-6</th>\n",
       "      <td>1</td>\n",
       "      <td>0</td>\n",
       "    </tr>\n",
       "    <tr>\n",
       "      <th>97534-21-9</th>\n",
       "      <td>0</td>\n",
       "      <td>1</td>\n",
       "    </tr>\n",
       "  </tbody>\n",
       "</table>\n",
       "<p>4043 rows × 2 columns</p>\n",
       "</div>"
      ],
      "text/plain": [
       "            mutagen  nonmutagen\n",
       "name                           \n",
       "1728-95-6         1           0\n",
       "91-08-7           1           0\n",
       "89786-04-9        0           1\n",
       "2439-35-2         0           1\n",
       "95-94-3           0           1\n",
       "...             ...         ...\n",
       "89930-60-9        1           0\n",
       "9002-92-0         0           1\n",
       "90597-22-1        0           1\n",
       "924-43-6          1           0\n",
       "97534-21-9        0           1\n",
       "\n",
       "[4043 rows x 2 columns]"
      ]
     },
     "execution_count": 15,
     "metadata": {},
     "output_type": "execute_result"
    }
   ],
   "source": [
    "y_raw.str.get_dummies()"
   ]
  },
  {
   "cell_type": "markdown",
   "metadata": {},
   "source": [
    "We will use this function to binarize the labels:"
   ]
  },
  {
   "cell_type": "code",
   "execution_count": 16,
   "metadata": {
    "collapsed": false
   },
   "outputs": [],
   "source": [
    "y = y.str.get_dummies()['mutagen']"
   ]
  },
  {
   "cell_type": "markdown",
   "metadata": {},
   "source": [
    "Amongst other options, it is provides access to chemical space plotting functionality.  This will featurize the molecules using a passed featurizer (or a string shortcut), and a dimensionality reduction technique to reduce the feature space to two dimensions, which are then plotted.  In this example, we use circular Morgan fingerprints, reduced by [t-SNE](https://lvdmaaten.github.io/tsne) to visualize structural diversity in the dataset."
   ]
  },
  {
   "cell_type": "code",
   "execution_count": 17,
   "metadata": {
    "collapsed": false
   },
   "outputs": [
    {
     "data": {
      "image/png": "[encoded data removed]",
      "text/plain": [
       "<matplotlib.figure.Figure at 0x126d0c5c0>"
      ]
     },
     "metadata": {},
     "output_type": "display_data"
    }
   ],
   "source": [
    "ms.mol.visualize(fper='morgan',\n",
    "                 dim_red='tsne', dim_red_kw={'method': 'exact'}, \n",
    "                 c=y, \n",
    "                 cmap='copper')"
   ]
  },
  {
   "cell_type": "markdown",
   "metadata": {},
   "source": [
    "The data appears to be reasonably separable in structural space, so we may suspect that Morgan fingerprints will be a good representation for modelling the data."
   ]
  },
  {
   "cell_type": "markdown",
   "metadata": {},
   "source": [
    "## Featurizing the data\n",
    "\n",
    "As previously noted, Morgan fingerprints would be a good fit for this data.  To calculate them, we will use the `MorganFeaturizer` class, which is a `Transformer`."
   ]
  },
  {
   "cell_type": "code",
   "execution_count": 18,
   "metadata": {
    "collapsed": false
   },
   "outputs": [
    {
     "name": "stderr",
     "output_type": "stream",
     "text": [
      "MorganFeaturizer: 100% (4043 of 4043) |########################################| Elapsed Time: 0:00:01 Time: 0:00:01\n"
     ]
    },
    {
     "data": {
      "text/html": [
       "<div>\n",
       "<table border=\"1\" class=\"dataframe\">\n",
       "  <thead>\n",
       "    <tr style=\"text-align: right;\">\n",
       "      <th>morgan_fp_idx</th>\n",
       "      <th>0</th>\n",
       "      <th>1</th>\n",
       "      <th>2</th>\n",
       "      <th>3</th>\n",
       "      <th>4</th>\n",
       "      <th>...</th>\n",
       "      <th>2043</th>\n",
       "      <th>2044</th>\n",
       "      <th>2045</th>\n",
       "      <th>2046</th>\n",
       "      <th>2047</th>\n",
       "    </tr>\n",
       "    <tr>\n",
       "      <th>batch</th>\n",
       "      <th></th>\n",
       "      <th></th>\n",
       "      <th></th>\n",
       "      <th></th>\n",
       "      <th></th>\n",
       "      <th></th>\n",
       "      <th></th>\n",
       "      <th></th>\n",
       "      <th></th>\n",
       "      <th></th>\n",
       "      <th></th>\n",
       "    </tr>\n",
       "  </thead>\n",
       "  <tbody>\n",
       "    <tr>\n",
       "      <th>1728-95-6</th>\n",
       "      <td>0</td>\n",
       "      <td>0</td>\n",
       "      <td>0</td>\n",
       "      <td>0</td>\n",
       "      <td>0</td>\n",
       "      <td>...</td>\n",
       "      <td>0</td>\n",
       "      <td>0</td>\n",
       "      <td>0</td>\n",
       "      <td>0</td>\n",
       "      <td>0</td>\n",
       "    </tr>\n",
       "    <tr>\n",
       "      <th>91-08-7</th>\n",
       "      <td>0</td>\n",
       "      <td>0</td>\n",
       "      <td>0</td>\n",
       "      <td>0</td>\n",
       "      <td>0</td>\n",
       "      <td>...</td>\n",
       "      <td>0</td>\n",
       "      <td>0</td>\n",
       "      <td>0</td>\n",
       "      <td>0</td>\n",
       "      <td>0</td>\n",
       "    </tr>\n",
       "    <tr>\n",
       "      <th>89786-04-9</th>\n",
       "      <td>0</td>\n",
       "      <td>0</td>\n",
       "      <td>0</td>\n",
       "      <td>0</td>\n",
       "      <td>0</td>\n",
       "      <td>...</td>\n",
       "      <td>0</td>\n",
       "      <td>0</td>\n",
       "      <td>0</td>\n",
       "      <td>0</td>\n",
       "      <td>0</td>\n",
       "    </tr>\n",
       "    <tr>\n",
       "      <th>2439-35-2</th>\n",
       "      <td>0</td>\n",
       "      <td>0</td>\n",
       "      <td>0</td>\n",
       "      <td>0</td>\n",
       "      <td>0</td>\n",
       "      <td>...</td>\n",
       "      <td>0</td>\n",
       "      <td>0</td>\n",
       "      <td>0</td>\n",
       "      <td>0</td>\n",
       "      <td>0</td>\n",
       "    </tr>\n",
       "    <tr>\n",
       "      <th>95-94-3</th>\n",
       "      <td>0</td>\n",
       "      <td>0</td>\n",
       "      <td>0</td>\n",
       "      <td>0</td>\n",
       "      <td>0</td>\n",
       "      <td>...</td>\n",
       "      <td>0</td>\n",
       "      <td>0</td>\n",
       "      <td>0</td>\n",
       "      <td>0</td>\n",
       "      <td>0</td>\n",
       "    </tr>\n",
       "    <tr>\n",
       "      <th>...</th>\n",
       "      <td>...</td>\n",
       "      <td>...</td>\n",
       "      <td>...</td>\n",
       "      <td>...</td>\n",
       "      <td>...</td>\n",
       "      <td>...</td>\n",
       "      <td>...</td>\n",
       "      <td>...</td>\n",
       "      <td>...</td>\n",
       "      <td>...</td>\n",
       "      <td>...</td>\n",
       "    </tr>\n",
       "    <tr>\n",
       "      <th>89930-60-9</th>\n",
       "      <td>0</td>\n",
       "      <td>0</td>\n",
       "      <td>0</td>\n",
       "      <td>0</td>\n",
       "      <td>0</td>\n",
       "      <td>...</td>\n",
       "      <td>0</td>\n",
       "      <td>0</td>\n",
       "      <td>0</td>\n",
       "      <td>0</td>\n",
       "      <td>0</td>\n",
       "    </tr>\n",
       "    <tr>\n",
       "      <th>9002-92-0</th>\n",
       "      <td>0</td>\n",
       "      <td>0</td>\n",
       "      <td>0</td>\n",
       "      <td>0</td>\n",
       "      <td>0</td>\n",
       "      <td>...</td>\n",
       "      <td>1</td>\n",
       "      <td>0</td>\n",
       "      <td>1</td>\n",
       "      <td>0</td>\n",
       "      <td>0</td>\n",
       "    </tr>\n",
       "    <tr>\n",
       "      <th>90597-22-1</th>\n",
       "      <td>0</td>\n",
       "      <td>0</td>\n",
       "      <td>0</td>\n",
       "      <td>0</td>\n",
       "      <td>0</td>\n",
       "      <td>...</td>\n",
       "      <td>0</td>\n",
       "      <td>0</td>\n",
       "      <td>0</td>\n",
       "      <td>0</td>\n",
       "      <td>0</td>\n",
       "    </tr>\n",
       "    <tr>\n",
       "      <th>924-43-6</th>\n",
       "      <td>0</td>\n",
       "      <td>0</td>\n",
       "      <td>0</td>\n",
       "      <td>0</td>\n",
       "      <td>0</td>\n",
       "      <td>...</td>\n",
       "      <td>0</td>\n",
       "      <td>0</td>\n",
       "      <td>0</td>\n",
       "      <td>0</td>\n",
       "      <td>0</td>\n",
       "    </tr>\n",
       "    <tr>\n",
       "      <th>97534-21-9</th>\n",
       "      <td>0</td>\n",
       "      <td>0</td>\n",
       "      <td>0</td>\n",
       "      <td>0</td>\n",
       "      <td>0</td>\n",
       "      <td>...</td>\n",
       "      <td>0</td>\n",
       "      <td>0</td>\n",
       "      <td>0</td>\n",
       "      <td>0</td>\n",
       "      <td>0</td>\n",
       "    </tr>\n",
       "  </tbody>\n",
       "</table>\n",
       "<p>4043 rows × 2048 columns</p>\n",
       "</div>"
      ],
      "text/plain": [
       "morgan_fp_idx  0     1     2     3     4     ...   2043  2044  2045  2046  \\\n",
       "batch                                        ...                            \n",
       "1728-95-6         0     0     0     0     0  ...      0     0     0     0   \n",
       "91-08-7           0     0     0     0     0  ...      0     0     0     0   \n",
       "89786-04-9        0     0     0     0     0  ...      0     0     0     0   \n",
       "2439-35-2         0     0     0     0     0  ...      0     0     0     0   \n",
       "95-94-3           0     0     0     0     0  ...      0     0     0     0   \n",
       "...             ...   ...   ...   ...   ...  ...    ...   ...   ...   ...   \n",
       "89930-60-9        0     0     0     0     0  ...      0     0     0     0   \n",
       "9002-92-0         0     0     0     0     0  ...      1     0     1     0   \n",
       "90597-22-1        0     0     0     0     0  ...      0     0     0     0   \n",
       "924-43-6          0     0     0     0     0  ...      0     0     0     0   \n",
       "97534-21-9        0     0     0     0     0  ...      0     0     0     0   \n",
       "\n",
       "morgan_fp_idx  2047  \n",
       "batch                \n",
       "1728-95-6         0  \n",
       "91-08-7           0  \n",
       "89786-04-9        0  \n",
       "2439-35-2         0  \n",
       "95-94-3           0  \n",
       "...             ...  \n",
       "89930-60-9        0  \n",
       "9002-92-0         0  \n",
       "90597-22-1        0  \n",
       "924-43-6          0  \n",
       "97534-21-9        0  \n",
       "\n",
       "[4043 rows x 2048 columns]"
      ]
     },
     "execution_count": 18,
     "metadata": {},
     "output_type": "execute_result"
    }
   ],
   "source": [
    "mf = skchem.descriptors.MorganFeaturizer()\n",
    "\n",
    "X, y = mf.transform(ms, y); X"
   ]
  },
  {
   "cell_type": "markdown",
   "metadata": {},
   "source": [
    "## Pipelining\n",
    "\n",
    "If this process appeared unnecessarily laborious (as it should!), **scikit-chem** provides a `Pipeline` class that will sequentially apply objects passed to it. For this example, we could have simply performed:"
   ]
  },
  {
   "cell_type": "code",
   "execution_count": 35,
   "metadata": {
    "collapsed": false
   },
   "outputs": [
    {
     "name": "stderr",
     "output_type": "stream",
     "text": [
      "ChemAxonStandardizer: 100% (4337 of 4337) |####################################| Elapsed Time: 0:00:22 Time: 0:00:22\n",
      "/Users/rich/projects/scikit-chem/skchem/forcefields/base.py:54: UserWarning: Failed to Embed Molecule 37364-66-2\n",
      "  warnings.warn(msg)\n",
      "/Users/rich/projects/scikit-chem/skchem/forcefields/base.py:54: UserWarning: Failed to Embed Molecule 109883-99-0\n",
      "  warnings.warn(msg)\n",
      "/Users/rich/projects/scikit-chem/skchem/forcefields/base.py:54: UserWarning: Failed to Embed Molecule 135768-83-1\n",
      "  warnings.warn(msg)\n",
      "/Users/rich/projects/scikit-chem/skchem/forcefields/base.py:54: UserWarning: Failed to Embed Molecule 57817-89-7\n",
      "  warnings.warn(msg)\n",
      "/Users/rich/projects/scikit-chem/skchem/forcefields/base.py:54: UserWarning: Failed to Embed Molecule 58071-32-2\n",
      "  warnings.warn(msg)\n",
      "/Users/rich/projects/scikit-chem/skchem/forcefields/base.py:54: UserWarning: Failed to Embed Molecule 13366-73-9\n",
      "  warnings.warn(msg)\n",
      "/Users/rich/projects/scikit-chem/skchem/forcefields/base.py:54: UserWarning: Failed to Embed Molecule 89213-87-6\n",
      "  warnings.warn(msg)\n",
      "UFF: 100% (4337 of 4337) |#####################################################| Elapsed Time: 0:01:49 Time: 0:01:49\n",
      "OrganicFilter: 100% (4330 of 4330) |###########################################| Elapsed Time: 0:00:05 Time: 0:00:05\n",
      "MassFilter: 100% (4330 of 4330) |##############################################| Elapsed Time: 0:00:00 Time: 0:00:00\n",
      "AtomNumberFilter: 100% (4070 of 4070) |########################################| Elapsed Time: 0:00:00 Time: 0:00:00\n",
      "MorganFeaturizer: 100% (4047 of 4047) |########################################| Elapsed Time: 0:00:00 Time: 0:00:00\n"
     ]
    }
   ],
   "source": [
    "pipeline = skchem.pipeline.Pipeline([\n",
    "        skchem.standardizers.ChemAxonStandardizer(keep_failed=True),\n",
    "        skchem.forcefields.UFF(),\n",
    "        skchem.filters.OrganicFilter(),\n",
    "        skchem.filters.MassFilter(above=100, below=1000),\n",
    "        skchem.filters.AtomNumberFilter(above=5, below=100),\n",
    "        skchem.descriptors.MorganFeaturizer()\n",
    "])\n",
    "\n",
    "X, y = pipeline.transform_filter(ms_raw, y_raw)"
   ]
  },
  {
   "cell_type": "markdown",
   "metadata": {},
   "source": [
    "## Modelling the data\n",
    "\n"
   ]
  },
  {
   "cell_type": "markdown",
   "metadata": {},
   "source": [
    "In this section, we will try building some basic [scikit-learn](http://scikit-learn.org) models on the data."
   ]
  },
  {
   "cell_type": "markdown",
   "metadata": {},
   "source": [
    "### Partitioning the data\n",
    "\n",
    "To decide on the best model to use, we should perform some model selection.  This will require comparing the relative performance of a selection of candidate molecules each trained on the same **train** set, and evaluated on a **validation** set.\n",
    "\n",
    "In *cheminformatics*, partitioning datasets usually requires some thought, as chemical datasets usually vastly overrepresent certain *scaffolds*, and underrepresent others.  In order to get as unbiased an estimate of performance as possible, one can either downsample compounds in a region of high density, or artifically favor splits that pool in the same split molecules that are too close in chemical space.\n",
    "\n",
    "**scikit-chem** provides this functionality in the `SimThresholdSplit` class, which applies single link heirachical clustering to produce a large number of clusters consisting of highly similar compounds.  These clusters are then randomly assigned to the desired splits, such that no split contains compounds that are more similar to compounds in any other split than the clustering threshold."
   ]
  },
  {
   "cell_type": "code",
   "execution_count": 37,
   "metadata": {
    "collapsed": false
   },
   "outputs": [],
   "source": [
    "cv = skchem.cross_validation.SimThresholdSplit(fper=None, n_jobs=4).fit(X)\n",
    "train, valid, test = cv.split((60, 20, 20))\n",
    "X_train, X_valid, X_test = X[train], X[valid], X[test]\n",
    "y_train, y_valid, y_test = y[train], y[valid], y[test]"
   ]
  },
  {
   "cell_type": "markdown",
   "metadata": {},
   "source": [
    "### Model selection"
   ]
  },
  {
   "cell_type": "raw",
   "metadata": {
    "raw_mimetype": "text/restructuredtext"
   },
   "source": [
    ".. todo:: \n",
    "    \n",
    "    Improve the modelling section:\n",
    "    \n",
    "    - More features\n",
    "    - More models\n",
    "    - Grid Searches over skchem cross validation indexes"
   ]
  },
  {
   "cell_type": "code",
   "execution_count": 21,
   "metadata": {
    "collapsed": false
   },
   "outputs": [],
   "source": [
    "import sklearn.ensemble\n",
    "import sklearn.linear_model\n",
    "import sklearn.naive_bayes"
   ]
  },
  {
   "cell_type": "code",
   "execution_count": 38,
   "metadata": {
    "collapsed": false
   },
   "outputs": [],
   "source": [
    "rf = sklearn.ensemble.RandomForestClassifier(n_estimators=100)\n",
    "nb = sklearn.naive_bayes.BernoulliNB()\n",
    "lr = sklearn.linear_model.LogisticRegression()"
   ]
  },
  {
   "cell_type": "code",
   "execution_count": 39,
   "metadata": {
    "collapsed": false
   },
   "outputs": [
    {
     "data": {
      "text/plain": [
       "((2428, 2048), (2428,))"
      ]
     },
     "execution_count": 39,
     "metadata": {},
     "output_type": "execute_result"
    }
   ],
   "source": [
    "X_train.shape, y_train.shape"
   ]
  },
  {
   "cell_type": "code",
   "execution_count": 42,
   "metadata": {
    "collapsed": false
   },
   "outputs": [
    {
     "name": "stdout",
     "output_type": "stream",
     "text": [
      "0.843016069221 0.812113720643 0.796044499382\n"
     ]
    }
   ],
   "source": [
    "rf_score = rf.fit(X_train, y_train).score(X_valid, y_valid)\n",
    "nb_score = nb.fit(X_train, y_train).score(X_valid, y_valid)\n",
    "lr_score = lr.fit(X_train, y_train).score(X_valid, y_valid)\n",
    "\n",
    "print(rf_score, nb_score, lr_score)"
   ]
  },
  {
   "cell_type": "markdown",
   "metadata": {
    "collapsed": true
   },
   "source": [
    "Random Forests appear to work best (although we should have chosen hyperparameters using Random or Grid search)."
   ]
  },
  {
   "cell_type": "markdown",
   "metadata": {},
   "source": [
    "### Assessing the Final performance"
   ]
  },
  {
   "cell_type": "code",
   "execution_count": 43,
   "metadata": {
    "collapsed": false
   },
   "outputs": [
    {
     "data": {
      "text/plain": [
       "0.83580246913580247"
      ]
     },
     "execution_count": 43,
     "metadata": {},
     "output_type": "execute_result"
    }
   ],
   "source": [
    "rf.fit(X_train.append(X_valid), y_train.append(y_valid)).score(X_test, y_test)"
   ]
  }
 ],
 "metadata": {
  "celltoolbar": "Raw Cell Format",
  "kernelspec": {
   "display_name": "Python 3",
   "language": "python",
   "name": "python3"
  },
  "language_info": {
   "codemirror_mode": {
    "name": "ipython",
    "version": 3
   },
   "file_extension": ".py",
   "mimetype": "text/x-python",
   "name": "python",
   "nbconvert_exporter": "python",
   "pygments_lexer": "ipython3",
   "version": "3.5.1"
  },
  "widgets": {
   "state": {},
   "version": "1.1.2"
  }
 },
 "nbformat": 4,
 "nbformat_minor": 0
}
