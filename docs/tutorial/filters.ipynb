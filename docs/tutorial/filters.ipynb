{
 "cells": [
  {
   "cell_type": "code",
   "execution_count": 1,
   "metadata": {
    "collapsed": true,
    "nbsphinx": "hidden"
   },
   "outputs": [],
   "source": [
    "%matplotlib inline"
   ]
  },
  {
   "cell_type": "markdown",
   "metadata": {
    "collapsed": true
   },
   "source": [
    "# Filtering"
   ]
  },
  {
   "cell_type": "markdown",
   "metadata": {
    "collapsed": true
   },
   "source": [
    "Operations looking to remove compounds from a collection are implemented as `Filter`s in **scikit-chem**.  These are implemented in the `skchem.filters` packages:"
   ]
  },
  {
   "cell_type": "code",
   "execution_count": 19,
   "metadata": {
    "collapsed": false
   },
   "outputs": [
    {
     "data": {
      "text/plain": [
       "['ChiralFilter',\n",
       " 'SMARTSFilter',\n",
       " 'PAINSFilter',\n",
       " 'ElementFilter',\n",
       " 'OrganicFilter',\n",
       " 'AtomNumberFilter',\n",
       " 'MassFilter',\n",
       " 'Filter']"
      ]
     },
     "execution_count": 19,
     "metadata": {},
     "output_type": "execute_result"
    }
   ],
   "source": [
    "skchem.filters.__all__"
   ]
  },
  {
   "cell_type": "markdown",
   "metadata": {},
   "source": [
    "They are used very much like `Transformer`s:"
   ]
  },
  {
   "cell_type": "code",
   "execution_count": 20,
   "metadata": {
    "collapsed": true
   },
   "outputs": [],
   "source": [
    "of = skchem.filters.OrganicFilter()"
   ]
  },
  {
   "cell_type": "code",
   "execution_count": 21,
   "metadata": {
    "collapsed": false
   },
   "outputs": [],
   "source": [
    "benzene = skchem.Mol.from_smiles('c1ccccc1', name='benzene')\n",
    "ferrocene = skchem.Mol.from_smiles('[cH-]1cccc1.[cH-]1cccc1.[Fe+2]', name='ferrocene')\n",
    "norbornane = skchem.Mol.from_smiles('C12CCC(C2)CC1', name='norbornane')\n",
    "dicyclopentadiene = skchem.Mol.from_smiles('C1C=CC2C1C3CC2C=C3')\n",
    "ms = [benzene, ferrocene, norbornane, dicyclopentadiene]"
   ]
  },
  {
   "cell_type": "code",
   "execution_count": 22,
   "metadata": {
    "collapsed": false
   },
   "outputs": [
    {
     "name": "stderr",
     "output_type": "stream",
     "text": [
      "\r",
      "OrganicFilter:  25% (1 of 4) |############                                     | Elapsed Time: 0:00:00 ETA:  0:00:00\r",
      "OrganicFilter:  50% (2 of 4) |########################                         | Elapsed Time: 0:00:00 ETA:  0:00:00\r",
      "OrganicFilter:  75% (3 of 4) |####################################             | Elapsed Time: 0:00:00 ETA:  0:00:00\r",
      "OrganicFilter: 100% (4 of 4) |#################################################| Elapsed Time: 0:00:00 Time: 0:00:00\n"
     ]
    },
    {
     "data": {
      "text/plain": [
       "benzene                   <Mol: c1ccccc1>\n",
       "norbornane             <Mol: C1CC2CCC1C2>\n",
       "3             <Mol: C1=CC2C3C=CC(C3)C2C1>\n",
       "Name: structure, dtype: object"
      ]
     },
     "execution_count": 22,
     "metadata": {},
     "output_type": "execute_result"
    }
   ],
   "source": [
    "of.filter(ms)"
   ]
  },
  {
   "cell_type": "markdown",
   "metadata": {},
   "source": [
    "`Filter`s essentially use a *predicate* function to decide whether to keep or remove instances.  The result of this function can be returned using `transform`:"
   ]
  },
  {
   "cell_type": "code",
   "execution_count": 23,
   "metadata": {
    "collapsed": false
   },
   "outputs": [
    {
     "name": "stderr",
     "output_type": "stream",
     "text": [
      "\r",
      "OrganicFilter:  25% (1 of 4) |############                                     | Elapsed Time: 0:00:00 ETA:  0:00:00\r",
      "OrganicFilter:  50% (2 of 4) |########################                         | Elapsed Time: 0:00:00 ETA:  0:00:00\r",
      "OrganicFilter:  75% (3 of 4) |####################################             | Elapsed Time: 0:00:00 ETA:  0:00:00\r",
      "OrganicFilter: 100% (4 of 4) |#################################################| Elapsed Time: 0:00:00 Time: 0:00:00\n"
     ]
    },
    {
     "data": {
      "text/plain": [
       "benzene        True\n",
       "ferrocene     False\n",
       "norbornane     True\n",
       "3              True\n",
       "dtype: bool"
      ]
     },
     "execution_count": 23,
     "metadata": {},
     "output_type": "execute_result"
    }
   ],
   "source": [
    "of.transform(ms)"
   ]
  },
  {
   "cell_type": "markdown",
   "metadata": {},
   "source": [
    "### Filters are Transformers\n",
    "\n",
    "As `Filter`s have a transform method, they are themselves `Transformer`s, that transform a molecule into the result of the predicate!"
   ]
  },
  {
   "cell_type": "code",
   "execution_count": 24,
   "metadata": {
    "collapsed": false
   },
   "outputs": [
    {
     "data": {
      "text/plain": [
       "True"
      ]
     },
     "execution_count": 24,
     "metadata": {},
     "output_type": "execute_result"
    }
   ],
   "source": [
    "issubclass(skchem.filters.Filter, skchem.base.Transformer)"
   ]
  },
  {
   "cell_type": "markdown",
   "metadata": {},
   "source": [
    "The predicate functions should return `None`, `False` or `np.nan` for negative results, and anything else for positive results"
   ]
  },
  {
   "cell_type": "markdown",
   "metadata": {},
   "source": [
    "## Creating your own Filter"
   ]
  },
  {
   "cell_type": "markdown",
   "metadata": {},
   "source": [
    "You can create your own filter by passing a predicate function to the `Filter` class.  For example, perhaps you only wanted compounds to keep compounds that had a name:"
   ]
  },
  {
   "cell_type": "code",
   "execution_count": 25,
   "metadata": {
    "collapsed": true
   },
   "outputs": [],
   "source": [
    "is_named = skchem.filters.Filter(lambda m: m.name is not None)"
   ]
  },
  {
   "cell_type": "markdown",
   "metadata": {},
   "source": [
    "We carelessly did not set dicyclopentadiene's name previously, so we want this to get filtered out:"
   ]
  },
  {
   "cell_type": "code",
   "execution_count": 26,
   "metadata": {
    "collapsed": false
   },
   "outputs": [
    {
     "name": "stderr",
     "output_type": "stream",
     "text": [
      "\r",
      "Filter:  25% (1 of 4) |##############                                          | Elapsed Time: 0:00:00 ETA:  0:00:00\r",
      "Filter:  50% (2 of 4) |############################                            | Elapsed Time: 0:00:00 ETA:  0:00:00\r",
      "Filter:  75% (3 of 4) |##########################################              | Elapsed Time: 0:00:00 ETA:  0:00:00\r",
      "Filter: 100% (4 of 4) |########################################################| Elapsed Time: 0:00:00 Time: 0:00:00\n"
     ]
    },
    {
     "data": {
      "text/plain": [
       "benzene                             <Mol: c1ccccc1>\n",
       "ferrocene     <Mol: [Fe+2].c1cc[cH-]c1.c1cc[cH-]c1>\n",
       "norbornane                       <Mol: C1CC2CCC1C2>\n",
       "Name: structure, dtype: object"
      ]
     },
     "execution_count": 26,
     "metadata": {},
     "output_type": "execute_result"
    }
   ],
   "source": [
    "is_named.filter(ms)"
   ]
  },
  {
   "cell_type": "markdown",
   "metadata": {},
   "source": [
    "It worked!"
   ]
  },
  {
   "cell_type": "markdown",
   "metadata": {},
   "source": [
    "## Transforming and Filtering"
   ]
  },
  {
   "cell_type": "markdown",
   "metadata": {},
   "source": [
    "A common functionality in cheminformatics is to convert a molecule into *something else*, and if the conversion fails, to just remove the compound.  An example of this is **standardization**, where one might want to throw away compounds that fail to standardize, or **geometry optimization** where one might throw away molecules that fail to converge.\n",
    "\n",
    "This functionality is similar to but crucially **different from simply `filtering`**, as filtering returns the original compounds, rather than the transformed compounds.  Instead, there are special `Filter`s, called `TransformFilter`s, that can perform this task in a single method call. To give an example of the functionality, we will use the `UFF` class:"
   ]
  },
  {
   "cell_type": "code",
   "execution_count": 27,
   "metadata": {
    "collapsed": false
   },
   "outputs": [
    {
     "data": {
      "text/plain": [
       "True"
      ]
     },
     "execution_count": 27,
     "metadata": {},
     "output_type": "execute_result"
    }
   ],
   "source": [
    "issubclass(skchem.forcefields.UFF, skchem.filters.base.TransformFilter)"
   ]
  },
  {
   "cell_type": "markdown",
   "metadata": {},
   "source": [
    "They are instanciated the same way as normal `Transformers` and `Filter`s:"
   ]
  },
  {
   "cell_type": "code",
   "execution_count": 28,
   "metadata": {
    "collapsed": false
   },
   "outputs": [],
   "source": [
    "uff = skchem.forcefields.UFF()"
   ]
  },
  {
   "cell_type": "markdown",
   "metadata": {},
   "source": [
    "An example molecule that fails is taken from the NCI DTP Diversity set III:"
   ]
  },
  {
   "cell_type": "code",
   "execution_count": 29,
   "metadata": {
    "collapsed": false
   },
   "outputs": [],
   "source": [
    "mol_that_fails = skchem.Mol.from_smiles('C[C@H](CCC(=O)O)[C@H]1CC[C@@]2(C)[C@@H]3C(=O)C[C@H]4C(C)(C)[C@@H](O)CC[C@]4(C)[C@H]3C(=O)C[C@]12C', \n",
    "                                        name='7524')"
   ]
  },
  {
   "cell_type": "code",
   "execution_count": 30,
   "metadata": {
    "collapsed": false
   },
   "outputs": [
    {
     "data": {
      "text/plain": [
       "<matplotlib.image.AxesImage at 0x121561eb8>"
      ]
     },
     "execution_count": 30,
     "metadata": {},
     "output_type": "execute_result"
    },
    {
     "data": {
      "image/png": "[encoded data removed]",
      "text/plain": [
       "<matplotlib.figure.Figure at 0x121263ef0>"
      ]
     },
     "metadata": {},
     "output_type": "display_data"
    }
   ],
   "source": [
    "skchem.vis.draw(mol_that_fails)"
   ]
  },
  {
   "cell_type": "code",
   "execution_count": 31,
   "metadata": {
    "collapsed": false
   },
   "outputs": [],
   "source": [
    "ms.append(mol_that_fails)"
   ]
  },
  {
   "cell_type": "code",
   "execution_count": 32,
   "metadata": {
    "collapsed": false
   },
   "outputs": [
    {
     "name": "stderr",
     "output_type": "stream",
     "text": [
      "/Users/rich/projects/scikit-chem/skchem/forcefields/base.py:54: UserWarning: Failed to Embed Molecule 7524\n",
      "  warnings.warn(msg)\n",
      "UFF: 100% (5 of 5) |###########################################################| Elapsed Time: 0:00:01 Time: 0:00:01\n"
     ]
    },
    {
     "data": {
      "text/plain": [
       "benzene                             <Mol: c1ccccc1>\n",
       "ferrocene     <Mol: [Fe+2].c1cc[cH-]c1.c1cc[cH-]c1>\n",
       "norbornane                       <Mol: C1CC2CCC1C2>\n",
       "3                       <Mol: C1=CC2C3C=CC(C3)C2C1>\n",
       "Name: structure, dtype: object"
      ]
     },
     "execution_count": 32,
     "metadata": {},
     "output_type": "execute_result"
    }
   ],
   "source": [
    "res = uff.filter(ms); res"
   ]
  },
  {
   "cell_type": "raw",
   "metadata": {
    "raw_mimetype": "text/restructuredtext"
   },
   "source": [
    ".. note::\n",
    "    \n",
    "    `filter` returns the *original* molecules, which have **not** been optimized:"
   ]
  },
  {
   "cell_type": "code",
   "execution_count": 33,
   "metadata": {
    "collapsed": false
   },
   "outputs": [
    {
     "data": {
      "text/plain": [
       "<matplotlib.image.AxesImage at 0x12174c198>"
      ]
     },
     "execution_count": 33,
     "metadata": {},
     "output_type": "execute_result"
    },
    {
     "data": {
      "image/png": "[encoded data removed]",
      "text/plain": [
       "<matplotlib.figure.Figure at 0x121531a58>"
      ]
     },
     "metadata": {},
     "output_type": "display_data"
    }
   ],
   "source": [
    "skchem.vis.draw(res.ix[3])"
   ]
  },
  {
   "cell_type": "code",
   "execution_count": 34,
   "metadata": {
    "collapsed": false
   },
   "outputs": [
    {
     "name": "stderr",
     "output_type": "stream",
     "text": [
      "/Users/rich/projects/scikit-chem/skchem/forcefields/base.py:54: UserWarning: Failed to Embed Molecule 7524\n",
      "  warnings.warn(msg)\n",
      "UFF: 100% (5 of 5) |###########################################################| Elapsed Time: 0:00:01 Time: 0:00:01\n"
     ]
    },
    {
     "data": {
      "text/plain": [
       "benzene               <Mol: [H]c1c([H])c([H])c([H])c([H])c1[H]>\n",
       "ferrocene     <Mol: [Fe+2].[H]c1c([H])c([H])[c-]([H])c1[H].[...\n",
       "norbornane    <Mol: [H]C1([H])C([H])([H])C2([H])C([H])([H])C...\n",
       "3             <Mol: [H]C1=C([H])C2([H])C3([H])C([H])=C([H])C...\n",
       "Name: structure, dtype: object"
      ]
     },
     "execution_count": 34,
     "metadata": {},
     "output_type": "execute_result"
    }
   ],
   "source": [
    "res = uff.transform_filter(ms); res"
   ]
  },
  {
   "cell_type": "code",
   "execution_count": 35,
   "metadata": {
    "collapsed": false
   },
   "outputs": [
    {
     "data": {
      "text/plain": [
       "<matplotlib.image.AxesImage at 0x121925390>"
      ]
     },
     "execution_count": 35,
     "metadata": {},
     "output_type": "execute_result"
    },
    {
     "data": {
      "image/png": "[encoded data removed]",
      "text/plain": [
       "<matplotlib.figure.Figure at 0x12175add8>"
      ]
     },
     "metadata": {},
     "output_type": "display_data"
    }
   ],
   "source": [
    "skchem.vis.draw(res.ix[3])"
   ]
  }
 ],
 "metadata": {
  "celltoolbar": "Raw Cell Format",
  "kernelspec": {
   "display_name": "Python 3",
   "language": "python",
   "name": "python3"
  },
  "language_info": {
   "codemirror_mode": {
    "name": "ipython",
    "version": 3
   },
   "file_extension": ".py",
   "mimetype": "text/x-python",
   "name": "python",
   "nbconvert_exporter": "python",
   "pygments_lexer": "ipython3",
   "version": "3.5.1"
  },
  "widgets": {
   "state": {},
   "version": "1.1.2"
  }
 },
 "nbformat": 4,
 "nbformat_minor": 0
}
