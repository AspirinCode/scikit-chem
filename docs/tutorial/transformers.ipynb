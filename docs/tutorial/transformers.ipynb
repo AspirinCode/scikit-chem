{
 "cells": [
  {
   "cell_type": "code",
   "execution_count": 15,
   "metadata": {
    "collapsed": false,
    "nbsphinx": "hidden"
   },
   "outputs": [],
   "source": [
    "import skchem\n",
    "import pandas as pd\n",
    "pd.options.display.max_rows = 10\n",
    "pd.options.display.max_columns = 10\n",
    "%matplotlib inline"
   ]
  },
  {
   "cell_type": "markdown",
   "metadata": {},
   "source": [
    "#  Transforming"
   ]
  },
  {
   "cell_type": "markdown",
   "metadata": {},
   "source": [
    "Operations on compounds are implemented as `Transformer`s in **scikit-chem**, which are analoguous to `Transformer` objects in **scikit-learn**.  These objects define a 1:1 mapping between input and output objects in a collection (i.e. the length of the collection remains the same during a transform).  These mappings can be very varied, but the three main types currently implemented in `scikit-chem` are `Standardizers`, `Forcefields` and `Featurizers`."
   ]
  },
  {
   "cell_type": "markdown",
   "metadata": {
    "collapsed": true
   },
   "source": [
    "## Standardizers"
   ]
  },
  {
   "cell_type": "markdown",
   "metadata": {},
   "source": [
    "Chemical data curation is a difficult concept, and data may be formatted differently depending on the source, or even the habits of the curator.  \n",
    "\n",
    "For example, **solvents** or **salts** might be included the representation, which might be considered an unnecessary detail to a modeller, or even irrelevant to an experimentalist, if the compound is solvated is a standard solvent during the protocol.\n",
    "\n",
    "Even the structure of molecules that would be considered the 'same', can often be drawn very differently.  For example,  [tautomers](https://en.wikipedia.org/wiki/Tautomers) are arguably the same molecule in different conditions, and [mesomers](https://en.wikipedia.org/wiki/Resonance) might be considered different aspects of the same molecule.  \n",
    "\n",
    "Often, it is sensible to canonicalize these compounds in a process called **Standardization**."
   ]
  },
  {
   "cell_type": "markdown",
   "metadata": {},
   "source": [
    "In `scikit-chem`, the [standardizers](../api/skchem.standardizers.rst) package provides this functionality. `Standardizer` objects transform `Mol` objects into other `Mol` objects, which have their representation canonicalized (or into `None` if the protocol fails).  The details of the canonicalization may be configured at object initialization, or by altering properties."
   ]
  },
  {
   "cell_type": "raw",
   "metadata": {
    "raw_mimetype": "text/restructuredtext"
   },
   "source": [
    ".. tip::\n",
    "\n",
    "    Currently, the only available `Standardizer` is a wrapper of the `ChemAxon Standardizer <https://www.chemaxon.com/products/standardizer/>`_.  This requires the ChemAxon `JChem software suite <https://www.chemaxon.com/download/jchem-suite/>`_ to be installed and licensed (free academic licenses are available from the website).  We hope to implement an open source `Standardizer` in future."
   ]
  },
  {
   "cell_type": "markdown",
   "metadata": {},
   "source": [
    "As an example, we will standardize the sodium acetate:"
   ]
  },
  {
   "cell_type": "code",
   "execution_count": 3,
   "metadata": {
    "collapsed": false
   },
   "outputs": [
    {
     "data": {
      "text/plain": [
       "'CC(=O)[O-].[Na+]'"
      ]
     },
     "execution_count": 3,
     "metadata": {},
     "output_type": "execute_result"
    }
   ],
   "source": [
    "mol = skchem.Mol.from_smiles('CC(=O)[O-].[Na+]', name='sodium acetate'); mol.to_smiles()"
   ]
  },
  {
   "cell_type": "markdown",
   "metadata": {},
   "source": [
    "A `Standardizer` object is initialized:"
   ]
  },
  {
   "cell_type": "code",
   "execution_count": 43,
   "metadata": {
    "collapsed": true
   },
   "outputs": [],
   "source": [
    "std = skchem.standardizers.ChemAxonStandardizer()"
   ]
  },
  {
   "cell_type": "markdown",
   "metadata": {},
   "source": [
    "Calling transform on sodium acetate yields the conjugate 'canonical' acid, acetic acid."
   ]
  },
  {
   "cell_type": "code",
   "execution_count": 44,
   "metadata": {
    "collapsed": false
   },
   "outputs": [
    {
     "data": {
      "text/plain": [
       "'CC(=O)O'"
      ]
     },
     "execution_count": 44,
     "metadata": {},
     "output_type": "execute_result"
    }
   ],
   "source": [
    "mol_std = std.transform(mol); mol_std.to_smiles()"
   ]
  },
  {
   "cell_type": "markdown",
   "metadata": {},
   "source": [
    "The standardization of a collection of `Mol`s can be achieved by calling `transform` on a `pandas.Series`:"
   ]
  },
  {
   "cell_type": "code",
   "execution_count": 45,
   "metadata": {
    "collapsed": false
   },
   "outputs": [
    {
     "data": {
      "text/plain": [
       "name\n",
       "ethane                          <Mol: CC>\n",
       "propane                        <Mol: CCC>\n",
       "benzene                   <Mol: c1ccccc1>\n",
       "sodium acetate    <Mol: CC(=O)[O-].[Na+]>\n",
       "serine                <Mol: NC(CO)C(=O)O>\n",
       "Name: structure, dtype: object"
      ]
     },
     "execution_count": 45,
     "metadata": {},
     "output_type": "execute_result"
    }
   ],
   "source": [
    "mols = skchem.read_smiles('https://archive.org/download/scikit-chem_example_files/example.smi', \n",
    "                          name_column=1); mols"
   ]
  },
  {
   "cell_type": "code",
   "execution_count": 46,
   "metadata": {
    "collapsed": false
   },
   "outputs": [
    {
     "name": "stderr",
     "output_type": "stream",
     "text": [
      "ChemAxonStandardizer: 100% (5 of 5) |##########################################| Elapsed Time: 0:00:01 Time: 0:00:01\n"
     ]
    },
    {
     "data": {
      "text/plain": [
       "name\n",
       "ethane                      <Mol: CC>\n",
       "propane                    <Mol: CCC>\n",
       "benzene               <Mol: c1ccccc1>\n",
       "sodium acetate         <Mol: CC(=O)O>\n",
       "serine            <Mol: NC(CO)C(=O)O>\n",
       "Name: structure, dtype: object"
      ]
     },
     "execution_count": 46,
     "metadata": {},
     "output_type": "execute_result"
    }
   ],
   "source": [
    "std.transform(mols)"
   ]
  },
  {
   "cell_type": "markdown",
   "metadata": {},
   "source": [
    "A loading bar is provided by default, although this can be disabled by lowering the verbosity:"
   ]
  },
  {
   "cell_type": "code",
   "execution_count": 47,
   "metadata": {
    "collapsed": false
   },
   "outputs": [
    {
     "data": {
      "text/plain": [
       "name\n",
       "ethane                      <Mol: CC>\n",
       "propane                    <Mol: CCC>\n",
       "benzene               <Mol: c1ccccc1>\n",
       "sodium acetate         <Mol: CC(=O)O>\n",
       "serine            <Mol: NC(CO)C(=O)O>\n",
       "Name: structure, dtype: object"
      ]
     },
     "execution_count": 47,
     "metadata": {},
     "output_type": "execute_result"
    }
   ],
   "source": [
    "std.verbose = 0\n",
    "std.transform(mols)"
   ]
  },
  {
   "cell_type": "raw",
   "metadata": {
    "raw_mimetype": "text/restructuredtext"
   },
   "source": [
    ".. todo::\n",
    "\n",
    "    failure cases"
   ]
  },
  {
   "cell_type": "markdown",
   "metadata": {},
   "source": [
    "## Forcefields"
   ]
  },
  {
   "cell_type": "markdown",
   "metadata": {},
   "source": [
    "Often the three dimensional structure of a compound is of relevance, but many chemical formats, such as [SMILES](http://www.daylight.com/dayhtml/doc/theory/theory.smiles.html) do not encode this information (and often even in formats which serialize geometry only coordinates in two dimensions are provided).\n",
    "\n",
    "To produce a reasonable three dimensional **conformer**, a compound must be roughly embedded in three dimensions according to local geometrical constraints, and forcefields used to optimize the geometry of a compound."
   ]
  },
  {
   "cell_type": "markdown",
   "metadata": {},
   "source": [
    "In `scikit-chem`, the [forcefields](../api/skchem.forcefields.rst) package provides access to this functionality.  Two forcefields, the [Universal Force Field (UFF)](http://pubs.acs.org/doi/abs/10.1021/ja00051a040) and the <!--Markdown links can't have brackets, even if escaped --><a href=\"http://onlinelibrary.wiley.com/doi/10.1002/(SICI)1096-987X(199604)17:5/6%3c490::AID-JCC1%3e3.0.CO%3b2-P/full\">Merck Molecular Force Field (MMFF)</a> are currently provided.  We will use the UFF:"
   ]
  },
  {
   "cell_type": "code",
   "execution_count": 23,
   "metadata": {
    "collapsed": false
   },
   "outputs": [],
   "source": [
    "uff = skchem.forcefields.UFF()\n",
    "mol = uff.transform(mol_std)"
   ]
  },
  {
   "cell_type": "code",
   "execution_count": 25,
   "metadata": {
    "collapsed": false
   },
   "outputs": [
    {
     "data": {
      "text/plain": [
       "<AtomView values=\"['C', 'C', 'O', 'O', 'H', 'H', 'H', 'H']\" at 0x12102b6a0>"
      ]
     },
     "execution_count": 25,
     "metadata": {},
     "output_type": "execute_result"
    }
   ],
   "source": [
    "mol.atoms"
   ]
  },
  {
   "cell_type": "markdown",
   "metadata": {},
   "source": [
    "This uses the forcefield to generate a reasonable three dimensional structure.  In `rdkit` (and thus `scikit-chem`, conformers are separate entities). The forcefield creates a new conformer on the object:"
   ]
  },
  {
   "cell_type": "code",
   "execution_count": 27,
   "metadata": {
    "collapsed": false
   },
   "outputs": [
    {
     "data": {
      "text/plain": [
       "[<Point3D coords=\"(1.22, -0.48, 0.10)\" at 0x1214de3d8>,\n",
       " <Point3D coords=\"(0.00, 0.10, -0.54)\" at 0x1214de098>,\n",
       " <Point3D coords=\"(0.06, 1.22, -1.11)\" at 0x1214de168>,\n",
       " <Point3D coords=\"(-1.20, -0.60, -0.53)\" at 0x1214de100>,\n",
       " <Point3D coords=\"(1.02, -0.64, 1.18)\" at 0x1214de238>,\n",
       " <Point3D coords=\"(1.47, -1.45, -0.37)\" at 0x1214de1d0>,\n",
       " <Point3D coords=\"(2.08, 0.21, -0.00)\" at 0x1214de2a0>,\n",
       " <Point3D coords=\"(-1.27, -1.51, -0.08)\" at 0x1214de308>]"
      ]
     },
     "execution_count": 27,
     "metadata": {},
     "output_type": "execute_result"
    }
   ],
   "source": [
    "mol.conformers[0].atom_positions"
   ]
  },
  {
   "cell_type": "markdown",
   "metadata": {},
   "source": [
    "The molecule can be visualized by drawing it:"
   ]
  },
  {
   "cell_type": "code",
   "execution_count": 35,
   "metadata": {
    "collapsed": false
   },
   "outputs": [
    {
     "data": {
      "text/plain": [
       "<matplotlib.image.AxesImage at 0x1236c6978>"
      ]
     },
     "execution_count": 35,
     "metadata": {},
     "output_type": "execute_result"
    },
    {
     "data": {
      "image/png": "[encoded data removed]",
      "text/plain": [
       "<matplotlib.figure.Figure at 0x11df5a198>"
      ]
     },
     "metadata": {},
     "output_type": "display_data"
    }
   ],
   "source": [
    "skchem.vis.draw(mol)"
   ]
  },
  {
   "cell_type": "raw",
   "metadata": {
    "raw_mimetype": "text/restructuredtext"
   },
   "source": [
    ".. todo::\n",
    "\n",
    "    multiple conformer generation."
   ]
  },
  {
   "cell_type": "markdown",
   "metadata": {
    "collapsed": true
   },
   "source": [
    "## Featurizers (fingerprint and descriptor generators)"
   ]
  },
  {
   "cell_type": "markdown",
   "metadata": {},
   "source": [
    "Chemical representation is not by itself very amenable to data analysis and mining techniques.  Often, a fixed length vector representation is required.  This is achieved by calculating **features** from the chemical representation."
   ]
  },
  {
   "cell_type": "markdown",
   "metadata": {},
   "source": [
    "In **scikit-chem**, this is provided by the `descriptors` package.  A selection of features are available:"
   ]
  },
  {
   "cell_type": "code",
   "execution_count": 11,
   "metadata": {
    "collapsed": false
   },
   "outputs": [
    {
     "data": {
      "text/plain": [
       "['PhysicochemicalFeaturizer',\n",
       " 'AtomFeaturizer',\n",
       " 'AtomPairFeaturizer',\n",
       " 'MorganFeaturizer',\n",
       " 'MACCSFeaturizer',\n",
       " 'TopologicalTorsionFeaturizer',\n",
       " 'RDKFeaturizer',\n",
       " 'ErGFeaturizer',\n",
       " 'ConnectivityInvariantsFeaturizer',\n",
       " 'FeatureInvariantsFeaturizer',\n",
       " 'ChemAxonNMRPredictor',\n",
       " 'ChemAxonFeaturizer',\n",
       " 'ChemAxonAtomFeaturizer',\n",
       " 'GraphDistanceTransformer',\n",
       " 'SpacialDistanceTransformer']"
      ]
     },
     "execution_count": 11,
     "metadata": {},
     "output_type": "execute_result"
    }
   ],
   "source": [
    "skchem.descriptors.__all__"
   ]
  },
  {
   "cell_type": "markdown",
   "metadata": {},
   "source": [
    "[Circular fingerprints](http://www.ncbi.nlm.nih.gov/pubmed/16523386) (of which Morgan fingerprints are an example) are often considered the most consistently well performing descriptor across a wide variety of compounds."
   ]
  },
  {
   "cell_type": "code",
   "execution_count": 12,
   "metadata": {
    "collapsed": false
   },
   "outputs": [
    {
     "data": {
      "text/plain": [
       "morgan_fp_idx\n",
       "0       0\n",
       "1       0\n",
       "2       0\n",
       "3       0\n",
       "4       0\n",
       "       ..\n",
       "2043    0\n",
       "2044    0\n",
       "2045    0\n",
       "2046    0\n",
       "2047    0\n",
       "Name: MorganFeaturizer, dtype: uint8"
      ]
     },
     "execution_count": 12,
     "metadata": {},
     "output_type": "execute_result"
    }
   ],
   "source": [
    "mf = skchem.descriptors.MorganFeaturizer()\n",
    "mf.transform(mol)"
   ]
  },
  {
   "cell_type": "markdown",
   "metadata": {},
   "source": [
    "We can also call the standardizer on a series of `Mol`s:"
   ]
  },
  {
   "cell_type": "code",
   "execution_count": 13,
   "metadata": {
    "collapsed": false
   },
   "outputs": [
    {
     "name": "stderr",
     "output_type": "stream",
     "text": [
      "\r",
      "MorganFeaturizer:  20% (1 of 5) |#########                                     | Elapsed Time: 0:00:00 ETA:  0:00:00\r",
      "MorganFeaturizer:  40% (2 of 5) |##################                            | Elapsed Time: 0:00:00 ETA:  0:00:00\r",
      "MorganFeaturizer:  60% (3 of 5) |###########################                   | Elapsed Time: 0:00:00 ETA:  0:00:00\r",
      "MorganFeaturizer:  80% (4 of 5) |####################################          | Elapsed Time: 0:00:00 ETA:  0:00:00\r",
      "MorganFeaturizer: 100% (5 of 5) |##############################################| Elapsed Time: 0:00:00 Time: 0:00:00\n"
     ]
    },
    {
     "data": {
      "text/html": [
       "<div>\n",
       "<table border=\"1\" class=\"dataframe\">\n",
       "  <thead>\n",
       "    <tr style=\"text-align: right;\">\n",
       "      <th>morgan_fp_idx</th>\n",
       "      <th>0</th>\n",
       "      <th>1</th>\n",
       "      <th>2</th>\n",
       "      <th>3</th>\n",
       "      <th>4</th>\n",
       "      <th>...</th>\n",
       "      <th>2043</th>\n",
       "      <th>2044</th>\n",
       "      <th>2045</th>\n",
       "      <th>2046</th>\n",
       "      <th>2047</th>\n",
       "    </tr>\n",
       "  </thead>\n",
       "  <tbody>\n",
       "    <tr>\n",
       "      <th>0</th>\n",
       "      <td>0</td>\n",
       "      <td>0</td>\n",
       "      <td>0</td>\n",
       "      <td>0</td>\n",
       "      <td>0</td>\n",
       "      <td>...</td>\n",
       "      <td>0</td>\n",
       "      <td>0</td>\n",
       "      <td>0</td>\n",
       "      <td>0</td>\n",
       "      <td>0</td>\n",
       "    </tr>\n",
       "    <tr>\n",
       "      <th>1</th>\n",
       "      <td>0</td>\n",
       "      <td>0</td>\n",
       "      <td>0</td>\n",
       "      <td>0</td>\n",
       "      <td>0</td>\n",
       "      <td>...</td>\n",
       "      <td>0</td>\n",
       "      <td>0</td>\n",
       "      <td>0</td>\n",
       "      <td>0</td>\n",
       "      <td>0</td>\n",
       "    </tr>\n",
       "    <tr>\n",
       "      <th>2</th>\n",
       "      <td>0</td>\n",
       "      <td>0</td>\n",
       "      <td>0</td>\n",
       "      <td>0</td>\n",
       "      <td>0</td>\n",
       "      <td>...</td>\n",
       "      <td>0</td>\n",
       "      <td>0</td>\n",
       "      <td>0</td>\n",
       "      <td>0</td>\n",
       "      <td>0</td>\n",
       "    </tr>\n",
       "    <tr>\n",
       "      <th>3</th>\n",
       "      <td>0</td>\n",
       "      <td>0</td>\n",
       "      <td>0</td>\n",
       "      <td>0</td>\n",
       "      <td>0</td>\n",
       "      <td>...</td>\n",
       "      <td>0</td>\n",
       "      <td>0</td>\n",
       "      <td>0</td>\n",
       "      <td>0</td>\n",
       "      <td>0</td>\n",
       "    </tr>\n",
       "    <tr>\n",
       "      <th>4</th>\n",
       "      <td>0</td>\n",
       "      <td>1</td>\n",
       "      <td>0</td>\n",
       "      <td>0</td>\n",
       "      <td>0</td>\n",
       "      <td>...</td>\n",
       "      <td>0</td>\n",
       "      <td>0</td>\n",
       "      <td>0</td>\n",
       "      <td>0</td>\n",
       "      <td>0</td>\n",
       "    </tr>\n",
       "  </tbody>\n",
       "</table>\n",
       "<p>5 rows × 2048 columns</p>\n",
       "</div>"
      ],
      "text/plain": [
       "morgan_fp_idx  0     1     2     3     4     ...   2043  2044  2045  2046  \\\n",
       "0                 0     0     0     0     0  ...      0     0     0     0   \n",
       "1                 0     0     0     0     0  ...      0     0     0     0   \n",
       "2                 0     0     0     0     0  ...      0     0     0     0   \n",
       "3                 0     0     0     0     0  ...      0     0     0     0   \n",
       "4                 0     1     0     0     0  ...      0     0     0     0   \n",
       "\n",
       "morgan_fp_idx  2047  \n",
       "0                 0  \n",
       "1                 0  \n",
       "2                 0  \n",
       "3                 0  \n",
       "4                 0  \n",
       "\n",
       "[5 rows x 2048 columns]"
      ]
     },
     "execution_count": 13,
     "metadata": {},
     "output_type": "execute_result"
    }
   ],
   "source": [
    "mf.transform(mols.structure)"
   ]
  },
  {
   "cell_type": "raw",
   "metadata": {
    "raw_mimetype": "text/restructuredtext"
   },
   "source": [
    ".. note::\n",
    "\n",
    "    Note that Morgan fingerprints are **1D**, and thus when we use a single ``Mol`` as input, we get the features in a **1D** ``pandas.Series`` .  When we use a collection of ``Mol`` s, the features are returned in a ``pandas.DataFrame`` , which is one higher dimension than a ``pandas.Series``, as a collection of ``Mol`` s are a dimension higher than a ``Mol`` by itself.\n",
    "\n",
    "    Some descriptors, such as the ``AtomFeaturizer`` , will yield **2D** features when used on a ``Mol``, and thus will yield the **3D** ``pandas.Panel`` when used on a collection of ``Mol`` s."
   ]
  }
 ],
 "metadata": {
  "celltoolbar": "Raw Cell Format",
  "kernelspec": {
   "display_name": "Python 3",
   "language": "python",
   "name": "python3"
  },
  "language_info": {
   "codemirror_mode": {
    "name": "ipython",
    "version": 3
   },
   "file_extension": ".py",
   "mimetype": "text/x-python",
   "name": "python",
   "nbconvert_exporter": "python",
   "pygments_lexer": "ipython3",
   "version": "3.5.1"
  },
  "widgets": {
   "state": {},
   "version": "1.1.2"
  }
 },
 "nbformat": 4,
 "nbformat_minor": 0
}
